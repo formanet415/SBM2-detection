{
 "cells": [
  {
   "cell_type": "code",
   "execution_count": 1,
   "id": "5022f059",
   "metadata": {},
   "outputs": [],
   "source": [
    "import load_cdf as cdf\n",
    "import numpy as np\n",
    "import math\n",
    "from calendar import monthrange\n",
    "from collections import namedtuple\n",
    "import pickle\n",
    "import scipy.io \n",
    "import scipy.signal\n",
    "\n",
    "import cdflib \n",
    "import datetime as dt"
   ]
  },
  {
   "cell_type": "code",
   "execution_count": 2,
   "id": "ebe7bf20",
   "metadata": {},
   "outputs": [],
   "source": [
    "# loading data\n",
    "\n",
    "with open('backup_SBM2_data_V3.pickle', 'rb') as f:\n",
    "    FP, AMP, NR, time, Epoch, rua = pickle.load(f)\n",
    "rua = rua[:,0]\n",
    "Epoch = np.array(Epoch).astype(int)"
   ]
  },
  {
   "cell_type": "code",
   "execution_count": 3,
   "id": "5278ec02",
   "metadata": {},
   "outputs": [],
   "source": [
    "def AMP_Check(AMP, EPEAK_THRESH_F): # Default = 750\n",
    "    return AMP>EPEAK_THRESH_F"
   ]
  },
  {
   "cell_type": "code",
   "execution_count": 4,
   "id": "2259412b",
   "metadata": {},
   "outputs": [],
   "source": [
    "def EVENTS_Check(NR, NW_THRES_F): # Default = 20\n",
    "    return NR>NW_THRES_F"
   ]
  },
  {
   "cell_type": "code",
   "execution_count": 5,
   "id": "8060460c",
   "metadata": {},
   "outputs": [],
   "source": [
    "def FREQ_Check(Fp, FP_MIN, FP_MAX, RUA): # Default FP_MIN = 5000; FP_MAX = 60000\n",
    "    fmin = Fp>(FP_MIN/RUA)\n",
    "    fmax = Fp<(FP_MAX/RUA)\n",
    "    temp = fmin.astype(int)+fmax.astype(int)\n",
    "    temp[temp<2] = 0\n",
    "    temp[temp==2] = 1\n",
    "    return temp"
   ]
  },
  {
   "cell_type": "code",
   "execution_count": 6,
   "id": "cdda2f36",
   "metadata": {},
   "outputs": [],
   "source": [
    "def SBM2_Check(AMP, NR, FP, EPEAK_THRESH_F, NW_THRES_F, FP_MIN, FP_MAX, RUA):\n",
    "    A = AMP_Check(AMP, EPEAK_THRESH_F)\n",
    "    E = EVENTS_Check(NR, NW_THRES_F)\n",
    "    F = FREQ_Check(FP, FP_MIN, FP_MAX, RUA)\n",
    "    A = A.astype(int)\n",
    "    E = E.astype(int)\n",
    "    F = F.astype(int)\n",
    "    temp = A + E + F\n",
    "    temp[temp<3] = 0\n",
    "    temp[temp==3] = 1\n",
    "    temp = temp.astype(bool)\n",
    "    return temp"
   ]
  },
  {
   "cell_type": "code",
   "execution_count": 112,
   "id": "bb357ef3",
   "metadata": {},
   "outputs": [],
   "source": [
    "def SBM2_Find(events, Epoch, time, DT, THRES):\n",
    "    EP = Epoch[np.where(events==1)]\n",
    "    EV = events[np.where(events==1)]\n",
    "    tt = time[np.where(events==1)]\n",
    "    dates = np.array([])\n",
    "    datesdet = np.array([])\n",
    "    for i in range(EP.shape[0]):\n",
    "        if i>5:\n",
    "            t0 = EP[i]\n",
    "            EP0 = EP[0:i]\n",
    "            EP1 = np.where(EP0>t0-DT)\n",
    "            NE = EP1[0]#.shape#[0]\n",
    "            if NE.shape[0] > THRES: \n",
    "                date = tt[i].strftime('%Y/%m/%d')\n",
    "                if date not in dates:\n",
    "                    dates = np.append(dates, date)\n",
    "                datedet = tt[i].strftime('%Y/%m/%d - %H')\n",
    "                if datedet not in datesdet:\n",
    "                    datesdet = np.append(datesdet, datedet)\n",
    "    print(dates)\n",
    "    print(datesdet)"
   ]
  },
  {
   "cell_type": "code",
   "execution_count": 157,
   "id": "c41d4a0c",
   "metadata": {},
   "outputs": [
    {
     "name": "stdout",
     "output_type": "stream",
     "text": [
      "['2020/05/02' '2020/07/10' '2020/11/18' '2020/12/10' '2020/12/11'\n",
      " '2020/12/17' '2020/12/27' '2021/01/05' '2021/03/19' '2021/03/20'\n",
      " '2021/05/09' '2021/05/22' '2021/05/23' '2021/05/31']\n",
      "['2020/05/02 - 11' '2020/05/02 - 12' '2020/07/10 - 06' '2020/11/18 - 20'\n",
      " '2020/12/10 - 09' '2020/12/10 - 19' '2020/12/11 - 01' '2020/12/17 - 14'\n",
      " '2020/12/27 - 05' '2020/12/27 - 06' '2020/12/27 - 07' '2020/12/27 - 08'\n",
      " '2020/12/27 - 09' '2020/12/27 - 10' '2021/01/05 - 09' '2021/03/19 - 21'\n",
      " '2021/03/20 - 06' '2021/03/20 - 07' '2021/03/20 - 08' '2021/05/09 - 16'\n",
      " '2021/05/09 - 17' '2021/05/09 - 18' '2021/05/22 - 02' '2021/05/22 - 03'\n",
      " '2021/05/22 - 06' '2021/05/22 - 09' '2021/05/23 - 11' '2021/05/23 - 12'\n",
      " '2021/05/23 - 13' '2021/05/31 - 21' '2021/05/31 - 22']\n"
     ]
    },
    {
     "name": "stderr",
     "output_type": "stream",
     "text": [
      "C:\\Users\\formanet\\miniconda3\\envs\\tensorflow\\lib\\site-packages\\ipykernel_launcher.py:15: FutureWarning: elementwise comparison failed; returning scalar instead, but in the future will perform elementwise comparison\n",
      "  from ipykernel import kernelapp as app\n",
      "C:\\Users\\formanet\\miniconda3\\envs\\tensorflow\\lib\\site-packages\\ipykernel_launcher.py:18: FutureWarning: elementwise comparison failed; returning scalar instead, but in the future will perform elementwise comparison\n"
     ]
    }
   ],
   "source": [
    "default = SBM2_Check(AMP, NR, FP, EPEAK_THRESH_F=750, NW_THRES_F=20, FP_MIN=5000, FP_MAX=60000, RUA=rua) # too strict (all 0)\n",
    "NW_EDIT = SBM2_Check(AMP, NR, FP, EPEAK_THRESH_F=750, NW_THRES_F=10, FP_MIN=5000, FP_MAX=60000, RUA=rua) # better\n",
    "Custom0 = SBM2_Check(AMP, NR, FP, EPEAK_THRESH_F=200, NW_THRES_F=0, FP_MIN=3000, FP_MAX=70000, RUA=rua) # experimental\n",
    "Custom1 = SBM2_Check(AMP, NR, FP, EPEAK_THRESH_F=75, NW_THRES_F=0.5, FP_MIN=5000, FP_MAX=20000, RUA=rua) # experimental\n",
    "\n",
    "\n",
    "SBM2_Find(Custom1, Epoch, time, 2400, 20)"
   ]
  },
  {
   "cell_type": "code",
   "execution_count": 158,
   "id": "9eb03b57",
   "metadata": {},
   "outputs": [
    {
     "data": {
      "text/plain": [
       "[<matplotlib.lines.Line2D at 0x18459f24f48>]"
      ]
     },
     "execution_count": 158,
     "metadata": {},
     "output_type": "execute_result"
    },
    {
     "data": {
      "image/png": "[encoded data removed]",
      "text/plain": [
       "<Figure size 432x288 with 1 Axes>"
      ]
     },
     "metadata": {
      "needs_background": "light"
     },
     "output_type": "display_data"
    }
   ],
   "source": [
    "import matplotlib.pyplot as plt\n",
    "import matplotlib.dates as md\n",
    "plt.xticks( rotation=25 )\n",
    "ax=plt.gca()\n",
    "xfmt = md.DateFormatter('%Y-%m-%d')\n",
    "ax.xaxis.set_major_formatter(xfmt)\n",
    "\n",
    "plt.plot(time,NW_EDIT)"
   ]
  },
  {
   "cell_type": "code",
   "execution_count": 20,
   "id": "63858f08",
   "metadata": {},
   "outputs": [],
   "source": [
    "events = NW_EDIT"
   ]
  },
  {
   "cell_type": "code",
   "execution_count": 21,
   "id": "0ce01017",
   "metadata": {},
   "outputs": [],
   "source": [
    "EP = Epoch[np.where(events==1)]"
   ]
  },
  {
   "cell_type": "code",
   "execution_count": 22,
   "id": "07046328",
   "metadata": {},
   "outputs": [],
   "source": [
    "EV = events[np.where(events==1)]"
   ]
  },
  {
   "cell_type": "code",
   "execution_count": 23,
   "id": "c3eed413",
   "metadata": {},
   "outputs": [
    {
     "data": {
      "text/plain": [
       "283"
      ]
     },
     "execution_count": 23,
     "metadata": {},
     "output_type": "execute_result"
    }
   ],
   "source": [
    "EP.shape[0]"
   ]
  },
  {
   "cell_type": "code",
   "execution_count": 26,
   "id": "0d57a934",
   "metadata": {},
   "outputs": [
    {
     "data": {
      "text/plain": [
       "array([1605621564, 1605621580, 1605621596, 1605621612, 1605621628,\n",
       "       1605621644, 1605621660, 1605621676, 1605621692, 1605621708,\n",
       "       1605621724, 1605621740, 1605621756, 1605621884, 1605621900,\n",
       "       1605621916, 1605621932, 1605621964, 1613222593, 1615447460,\n",
       "       1615449268, 1615449556, 1615449572, 1615449588, 1615449604,\n",
       "       1615449620, 1615449636, 1615449652, 1615449668, 1615449684,\n",
       "       1615449700, 1615449716, 1615449732, 1615449748, 1615449764,\n",
       "       1615449780, 1615449796, 1615449812, 1615449828, 1615449844,\n",
       "       1615449860, 1615449893, 1615449909, 1615449925, 1615449941,\n",
       "       1615449957, 1615449973, 1615449989, 1615450005, 1615450021,\n",
       "       1615450037, 1615450053, 1615450069, 1615450085, 1615450101,\n",
       "       1615450117, 1615450133, 1615450149, 1615450165, 1615450181,\n",
       "       1615450197, 1615450213, 1615450229, 1615450245, 1615450261,\n",
       "       1615450277, 1615450293, 1615450309, 1615450325, 1615450341,\n",
       "       1615450357, 1615450373, 1615450389, 1615450405, 1615450421,\n",
       "       1615450437, 1615450453, 1615450469, 1615450485, 1615450501,\n",
       "       1615450517, 1615450533, 1615450549, 1615450565, 1615450581,\n",
       "       1615450597, 1615450613, 1615450629, 1615450645, 1615450661,\n",
       "       1615450677, 1615450693, 1615450709, 1615450725, 1615450741,\n",
       "       1615450757, 1615450773, 1615450789, 1615450805, 1615450821,\n",
       "       1615450837, 1615450864, 1615450880, 1615450896, 1615450912,\n",
       "       1615450928, 1615450944, 1615450960, 1615450976, 1615450992,\n",
       "       1615451008, 1615451024, 1615451040, 1615451056, 1615451072,\n",
       "       1615451088, 1615451104, 1615451120, 1615451136, 1615451152,\n",
       "       1615451168, 1615451184, 1615451200, 1615451216, 1615451232,\n",
       "       1615451248, 1615451264, 1615451290, 1615451306, 1615451322,\n",
       "       1615451338, 1615451354, 1615451370, 1615451386, 1615451402,\n",
       "       1615451418, 1615451434, 1615451450, 1615451466, 1615451482,\n",
       "       1615451498, 1615451514, 1615451530, 1615451546, 1615451562,\n",
       "       1615451578, 1615451594, 1615451610, 1615451626, 1615451642,\n",
       "       1615451658, 1615451674, 1615451690, 1615451706, 1615451722,\n",
       "       1615451738, 1615451754, 1615451770, 1615451786, 1615451802,\n",
       "       1615451818, 1615451834, 1615451850, 1615451866, 1615451882,\n",
       "       1615451898, 1615451914, 1615451930, 1615451946, 1615451962,\n",
       "       1615451978, 1615451994, 1615452010, 1615452026, 1615452042,\n",
       "       1615452058, 1615452074, 1615452090, 1615452106, 1615452122,\n",
       "       1615452138, 1615452154, 1615452170, 1615452186, 1615452202,\n",
       "       1615452218, 1615452234, 1615452250, 1615452266, 1615452282,\n",
       "       1615452298, 1615452314, 1615452330, 1615452346, 1615452362,\n",
       "       1615452378, 1615452394, 1615452410, 1615452426, 1615452442,\n",
       "       1615452458, 1615452474, 1615452490, 1615452506, 1615452522,\n",
       "       1615452538, 1615452554, 1615452570, 1615452586, 1615452602,\n",
       "       1615452618, 1615452634, 1615452650, 1615452666, 1615452682,\n",
       "       1615452698, 1615452714, 1615452730, 1615452746, 1615452762,\n",
       "       1615452778, 1615452794, 1615452810, 1615452826, 1615452842,\n",
       "       1615452858, 1615452874, 1615452890, 1615452906, 1615452922,\n",
       "       1615452938, 1615452954, 1615452970, 1615452986, 1615453002,\n",
       "       1615453018, 1615453034, 1615453050, 1615453066, 1615453082,\n",
       "       1615453098, 1615453114, 1615453130, 1615453146, 1615453162,\n",
       "       1615453178, 1615453194, 1615453210, 1615453226, 1615453242,\n",
       "       1615453258, 1615453274, 1615453290, 1615453306, 1615453322,\n",
       "       1615453338, 1615453354, 1615453386, 1615453402, 1615454362,\n",
       "       1615454442, 1615454458, 1615454474, 1615454490, 1615454506,\n",
       "       1615454522, 1615454538, 1615454554, 1615454570, 1615454586,\n",
       "       1615454602, 1615454698, 1615454714, 1615454730, 1615457786,\n",
       "       1615457802, 1615457818, 1615457834, 1615457850, 1615457866,\n",
       "       1615457882, 1621668862, 1621769363])"
      ]
     },
     "execution_count": 26,
     "metadata": {},
     "output_type": "execute_result"
    }
   ],
   "source": [
    "EP"
   ]
  }
 ],
 "metadata": {
  "kernelspec": {
   "display_name": "Python [conda env:tensorflow] *",
   "language": "python",
   "name": "conda-env-tensorflow-py"
  },
  "language_info": {
   "codemirror_mode": {
    "name": "ipython",
    "version": 3
   },
   "file_extension": ".py",
   "mimetype": "text/x-python",
   "name": "python",
   "nbconvert_exporter": "python",
   "pygments_lexer": "ipython3",
   "version": "3.7.10"
  }
 },
 "nbformat": 4,
 "nbformat_minor": 5
}
