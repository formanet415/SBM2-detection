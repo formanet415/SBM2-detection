{
 "cells": [
  {
   "cell_type": "code",
   "execution_count": 64,
   "id": "a0be6636",
   "metadata": {},
   "outputs": [],
   "source": [
    "import pickle\n",
    "import scipy.io \n",
    "import matplotlib.pyplot as plt\n",
    "import numpy as np"
   ]
  },
  {
   "cell_type": "code",
   "execution_count": 13,
   "id": "c9b91d55",
   "metadata": {},
   "outputs": [],
   "source": [
    "with open('SBM2_raw_data_V5.pickle', 'rb') as f:\n",
    "        FP, AMP, NR, Epoch = pickle.load(f)\n",
    "with open('SBM2_timepos_data_V5.pickle', 'rb') as f:\n",
    "    time, rua = pickle.load(f)\n"
   ]
  },
  {
   "cell_type": "code",
   "execution_count": 57,
   "id": "49de5a02",
   "metadata": {},
   "outputs": [],
   "source": [
    "et = scipy.io.loadmat('et.mat')['et']\n",
    "et = et[0,:]*1e9"
   ]
  },
  {
   "cell_type": "code",
   "execution_count": 35,
   "id": "eac04eab",
   "metadata": {},
   "outputs": [],
   "source": [
    "rua = scipy.io.loadmat('rua.mat')['rua']\n",
    "rua = rua[0,:]"
   ]
  },
  {
   "cell_type": "code",
   "execution_count": 69,
   "id": "b4b9ef79",
   "metadata": {},
   "outputs": [],
   "source": [
    "with open('SBM2_raw_data_V6.pickle', 'wb') as f:\n",
    "    pickle.dump([FP, AMP, NR], f)\n",
    "with open('SBM2_timepos_data_V6.pickle', 'wb') as f:\n",
    "    pickle.dump([time, rua, Epoch, et], f)"
   ]
  },
  {
   "cell_type": "code",
   "execution_count": null,
   "id": "1dd03308",
   "metadata": {},
   "outputs": [],
   "source": [
    "with open('SBM2_raw_data_V6.pickle', 'rb') as f:\n",
    "    FP, AMP, NR = pickle.load(f)\n",
    "with open('SBM2_timepos_data_V6.pickle', 'rb') as f:\n",
    "    time, rua, Epoch, et = pickle.load(f)\n",
    "    \n",
    "with open('SBM2_raw_data_V6.pickle', 'wb') as f:\n",
    "    pickle.dump([FP, AMP, NR], f)\n",
    "with open('SBM2_timepos_data_V6.pickle', 'wb') as f:\n",
    "    pickle.dump([time, rua, Epoch, et], f)"
   ]
  },
  {
   "cell_type": "code",
   "execution_count": 38,
   "id": "a7485647",
   "metadata": {},
   "outputs": [
    {
     "data": {
      "text/plain": [
       "[<matplotlib.lines.Line2D at 0x187deaae1c0>]"
      ]
     },
     "execution_count": 38,
     "metadata": {},
     "output_type": "execute_result"
    },
    {
     "data": {
      "image/png": "[encoded data removed]",
      "text/plain": [
       "<Figure size 432x288 with 1 Axes>"
      ]
     },
     "metadata": {
      "needs_background": "light"
     },
     "output_type": "display_data"
    }
   ],
   "source": [
    "plt.plot(Epoch)\n",
    "plt.plot(et*1e9)"
   ]
  },
  {
   "cell_type": "code",
   "execution_count": 23,
   "id": "b213cccd",
   "metadata": {},
   "outputs": [
    {
     "data": {
      "text/plain": [
       "array([[6.35865674e+08, 6.35865734e+08, 6.35865794e+08, ...,\n",
       "        6.76663754e+08, 6.76663814e+08, 6.76663874e+08]])"
      ]
     },
     "execution_count": 23,
     "metadata": {},
     "output_type": "execute_result"
    }
   ],
   "source": [
    "et"
   ]
  },
  {
   "cell_type": "code",
   "execution_count": 24,
   "id": "4545e347",
   "metadata": {},
   "outputs": [
    {
     "data": {
      "text/plain": [
       "array([6.35862075e+17, 6.35862085e+17, 6.35862095e+17, ...,\n",
       "       6.77360220e+17, 6.77360236e+17, 6.77360252e+17])"
      ]
     },
     "execution_count": 24,
     "metadata": {},
     "output_type": "execute_result"
    }
   ],
   "source": [
    "Epoch"
   ]
  },
  {
   "cell_type": "code",
   "execution_count": 33,
   "id": "facc8af1",
   "metadata": {},
   "outputs": [
    {
     "data": {
      "text/plain": [
       "(679971,)"
      ]
     },
     "execution_count": 33,
     "metadata": {},
     "output_type": "execute_result"
    }
   ],
   "source": [
    "et.shape"
   ]
  },
  {
   "cell_type": "code",
   "execution_count": 45,
   "id": "55e93492",
   "metadata": {},
   "outputs": [
    {
     "data": {
      "text/plain": [
       "(2373729,)"
      ]
     },
     "execution_count": 45,
     "metadata": {},
     "output_type": "execute_result"
    }
   ],
   "source": [
    "Epoch.shape"
   ]
  },
  {
   "cell_type": "code",
   "execution_count": 36,
   "id": "4db95cd0",
   "metadata": {},
   "outputs": [
    {
     "data": {
      "text/plain": [
       "(698671,)"
      ]
     },
     "execution_count": 36,
     "metadata": {},
     "output_type": "execute_result"
    }
   ],
   "source": [
    "rua.shape"
   ]
  },
  {
   "cell_type": "code",
   "execution_count": 68,
   "id": "fd7868fb",
   "metadata": {},
   "outputs": [
    {
     "data": {
      "text/plain": [
       "6.577829541825695e+17"
      ]
     },
     "execution_count": 68,
     "metadata": {},
     "output_type": "execute_result"
    }
   ],
   "source": [
    "et[365288]"
   ]
  },
  {
   "cell_type": "code",
   "execution_count": 54,
   "id": "b401f03b",
   "metadata": {},
   "outputs": [
    {
     "data": {
      "text/plain": [
       "6.577829674179782e+17"
      ]
     },
     "execution_count": 54,
     "metadata": {},
     "output_type": "execute_result"
    }
   ],
   "source": [
    "Epoch[1200000]"
   ]
  },
  {
   "cell_type": "code",
   "execution_count": 66,
   "id": "c0bed1f1",
   "metadata": {},
   "outputs": [],
   "source": [
    "def find_nearest(array, value):\n",
    "    array = np.asarray(array)\n",
    "    idx = (np.abs(array - value)).argmin()\n",
    "    return idx"
   ]
  },
  {
   "cell_type": "code",
   "execution_count": 67,
   "id": "a7fe8b0d",
   "metadata": {},
   "outputs": [
    {
     "data": {
      "text/plain": [
       "365288"
      ]
     },
     "execution_count": 67,
     "metadata": {},
     "output_type": "execute_result"
    }
   ],
   "source": [
    "find_nearest(et, Epoch[1200000])"
   ]
  }
 ],
 "metadata": {
  "kernelspec": {
   "display_name": "Python 3",
   "language": "python",
   "name": "python3"
  },
  "language_info": {
   "codemirror_mode": {
    "name": "ipython",
    "version": 3
   },
   "file_extension": ".py",
   "mimetype": "text/x-python",
   "name": "python",
   "nbconvert_exporter": "python",
   "pygments_lexer": "ipython3",
   "version": "3.9.5"
  }
 },
 "nbformat": 4,
 "nbformat_minor": 5
}
