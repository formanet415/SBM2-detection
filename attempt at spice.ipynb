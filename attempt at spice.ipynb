{
 "cells": [
  {
   "cell_type": "code",
   "execution_count": 1,
   "id": "a43e2ddc",
   "metadata": {},
   "outputs": [],
   "source": [
    "import numpy as np\n",
    "import matplotlib.pyplot as plt\n",
    "from mpl_toolkits.mplot3d import Axes3D\n",
    "import spiceypy as spice"
   ]
  },
  {
   "cell_type": "code",
   "execution_count": 13,
   "id": "58f457b3",
   "metadata": {},
   "outputs": [
    {
     "ename": "SpiceNOSUCHFILE",
     "evalue": "\n================================================================================\n\nToolkit version: CSPICE66\n\nSPICE(NOSUCHFILE) --\n\nThe first file '../ck/solo_ANC_soc-sc-iboom-ck_20180930-21000101_V01.bc' specified by KERNELS_TO_LOAD in the file Z:\\spice\\mk\\solo_ANC_soc-flown-mk.tm could not be located.\n\nfurnsh_c --> FURNSH --> ZZLDKER\n\n================================================================================",
     "output_type": "error",
     "traceback": [
      "\u001b[1;31m---------------------------------------------------------------------------\u001b[0m",
      "\u001b[1;31mSpiceNOSUCHFILE\u001b[0m                           Traceback (most recent call last)",
      "\u001b[1;32m<ipython-input-13-a867d5ec2ca7>\u001b[0m in \u001b[0;36m<module>\u001b[1;34m\u001b[0m\n\u001b[0;32m      1\u001b[0m \u001b[0mspice\u001b[0m\u001b[1;33m.\u001b[0m\u001b[0mtkvrsn\u001b[0m\u001b[1;33m(\u001b[0m\u001b[1;34m\"TOOLKIT\"\u001b[0m\u001b[1;33m)\u001b[0m\u001b[1;33m\u001b[0m\u001b[1;33m\u001b[0m\u001b[0m\n\u001b[1;32m----> 2\u001b[1;33m \u001b[0mspice\u001b[0m\u001b[1;33m.\u001b[0m\u001b[0mfurnsh\u001b[0m\u001b[1;33m(\u001b[0m\u001b[1;34m'Z:\\spice\\mk\\solo_ANC_soc-flown-mk.tm'\u001b[0m\u001b[1;33m)\u001b[0m\u001b[1;33m\u001b[0m\u001b[1;33m\u001b[0m\u001b[0m\n\u001b[0m",
      "\u001b[1;32m~\\miniconda3\\envs\\tensorflow\\lib\\site-packages\\spiceypy\\spiceypy.py\u001b[0m in \u001b[0;36mwith_errcheck\u001b[1;34m(*args, **kwargs)\u001b[0m\n\u001b[0;32m    122\u001b[0m         \u001b[1;32mtry\u001b[0m\u001b[1;33m:\u001b[0m\u001b[1;33m\u001b[0m\u001b[1;33m\u001b[0m\u001b[0m\n\u001b[0;32m    123\u001b[0m             \u001b[0mres\u001b[0m \u001b[1;33m=\u001b[0m \u001b[0mf\u001b[0m\u001b[1;33m(\u001b[0m\u001b[1;33m*\u001b[0m\u001b[0margs\u001b[0m\u001b[1;33m,\u001b[0m \u001b[1;33m**\u001b[0m\u001b[0mkwargs\u001b[0m\u001b[1;33m)\u001b[0m\u001b[1;33m\u001b[0m\u001b[1;33m\u001b[0m\u001b[0m\n\u001b[1;32m--> 124\u001b[1;33m             \u001b[0mcheck_for_spice_error\u001b[0m\u001b[1;33m(\u001b[0m\u001b[0mf\u001b[0m\u001b[1;33m)\u001b[0m\u001b[1;33m\u001b[0m\u001b[1;33m\u001b[0m\u001b[0m\n\u001b[0m\u001b[0;32m    125\u001b[0m             \u001b[1;32mreturn\u001b[0m \u001b[0mres\u001b[0m\u001b[1;33m\u001b[0m\u001b[1;33m\u001b[0m\u001b[0m\n\u001b[0;32m    126\u001b[0m         \u001b[1;32mexcept\u001b[0m \u001b[0mBaseException\u001b[0m\u001b[1;33m:\u001b[0m\u001b[1;33m\u001b[0m\u001b[1;33m\u001b[0m\u001b[0m\n",
      "\u001b[1;32m~\\miniconda3\\envs\\tensorflow\\lib\\site-packages\\spiceypy\\spiceypy.py\u001b[0m in \u001b[0;36mcheck_for_spice_error\u001b[1;34m(f)\u001b[0m\n\u001b[0;32m    106\u001b[0m         \u001b[0mreset\u001b[0m\u001b[1;33m(\u001b[0m\u001b[1;33m)\u001b[0m\u001b[1;33m\u001b[0m\u001b[1;33m\u001b[0m\u001b[0m\n\u001b[0;32m    107\u001b[0m         raise stypes.dynamically_instantiate_spiceyerror(\n\u001b[1;32m--> 108\u001b[1;33m             \u001b[0mshort\u001b[0m\u001b[1;33m=\u001b[0m\u001b[0mshort\u001b[0m\u001b[1;33m,\u001b[0m \u001b[0mexplain\u001b[0m\u001b[1;33m=\u001b[0m\u001b[0mexplain\u001b[0m\u001b[1;33m,\u001b[0m \u001b[0mlong\u001b[0m\u001b[1;33m=\u001b[0m\u001b[0mlong\u001b[0m\u001b[1;33m,\u001b[0m \u001b[0mtraceback\u001b[0m\u001b[1;33m=\u001b[0m\u001b[0mtraceback\u001b[0m\u001b[1;33m\u001b[0m\u001b[1;33m\u001b[0m\u001b[0m\n\u001b[0m\u001b[0;32m    109\u001b[0m         )\n\u001b[0;32m    110\u001b[0m \u001b[1;33m\u001b[0m\u001b[0m\n",
      "\u001b[1;31mSpiceNOSUCHFILE\u001b[0m: \n================================================================================\n\nToolkit version: CSPICE66\n\nSPICE(NOSUCHFILE) --\n\nThe first file '../ck/solo_ANC_soc-sc-iboom-ck_20180930-21000101_V01.bc' specified by KERNELS_TO_LOAD in the file Z:\\spice\\mk\\solo_ANC_soc-flown-mk.tm could not be located.\n\nfurnsh_c --> FURNSH --> ZZLDKER\n\n================================================================================"
     ]
    }
   ],
   "source": [
    "spice.tkvrsn(\"TOOLKIT\")\n",
    "spice.furnsh('Z:\\spice\\mk\\solo_ANC_soc-flown-mk.tm')"
   ]
  },
  {
   "cell_type": "code",
   "execution_count": 8,
   "id": "77dfdc2c",
   "metadata": {},
   "outputs": [
    {
     "ename": "SpiceNOLEAPSECONDS",
     "evalue": "\n================================================================================\n\nToolkit version: CSPICE66\n\nSPICE(NOLEAPSECONDS) --\n\nThe variable that points to the leapseconds (DELTET/DELTA_AT) could not be located in the kernel pool.  It is likely that the leapseconds kernel has not been loaded via the routine FURNSH.\n\nstr2et_c --> STR2ET --> TTRANS\n\n================================================================================",
     "output_type": "error",
     "traceback": [
      "\u001b[1;31m---------------------------------------------------------------------------\u001b[0m",
      "\u001b[1;31mSpiceNOLEAPSECONDS\u001b[0m                        Traceback (most recent call last)",
      "\u001b[1;32m<ipython-input-8-71f9746d8ce1>\u001b[0m in \u001b[0;36m<module>\u001b[1;34m\u001b[0m\n\u001b[0;32m      3\u001b[0m \u001b[1;33m\u001b[0m\u001b[0m\n\u001b[0;32m      4\u001b[0m \u001b[1;31m# get et values one and two, we could vectorize str2et\u001b[0m\u001b[1;33m\u001b[0m\u001b[1;33m\u001b[0m\u001b[1;33m\u001b[0m\u001b[0m\n\u001b[1;32m----> 5\u001b[1;33m \u001b[0metOne\u001b[0m \u001b[1;33m=\u001b[0m \u001b[0mspice\u001b[0m\u001b[1;33m.\u001b[0m\u001b[0mstr2et\u001b[0m\u001b[1;33m(\u001b[0m\u001b[0mutc\u001b[0m\u001b[1;33m[\u001b[0m\u001b[1;36m0\u001b[0m\u001b[1;33m]\u001b[0m\u001b[1;33m)\u001b[0m\u001b[1;33m\u001b[0m\u001b[1;33m\u001b[0m\u001b[0m\n\u001b[0m\u001b[0;32m      6\u001b[0m \u001b[0metTwo\u001b[0m \u001b[1;33m=\u001b[0m \u001b[0mspice\u001b[0m\u001b[1;33m.\u001b[0m\u001b[0mstr2et\u001b[0m\u001b[1;33m(\u001b[0m\u001b[0mutc\u001b[0m\u001b[1;33m[\u001b[0m\u001b[1;36m1\u001b[0m\u001b[1;33m]\u001b[0m\u001b[1;33m)\u001b[0m\u001b[1;33m\u001b[0m\u001b[1;33m\u001b[0m\u001b[0m\n\u001b[0;32m      7\u001b[0m \u001b[0mprint\u001b[0m\u001b[1;33m(\u001b[0m\u001b[1;34m\"ET One: {}, ET Two: {}\"\u001b[0m\u001b[1;33m.\u001b[0m\u001b[0mformat\u001b[0m\u001b[1;33m(\u001b[0m\u001b[0metOne\u001b[0m\u001b[1;33m,\u001b[0m \u001b[0metTwo\u001b[0m\u001b[1;33m)\u001b[0m\u001b[1;33m)\u001b[0m\u001b[1;33m\u001b[0m\u001b[1;33m\u001b[0m\u001b[0m\n",
      "\u001b[1;32m~\\miniconda3\\envs\\tensorflow\\lib\\site-packages\\spiceypy\\spiceypy.py\u001b[0m in \u001b[0;36mwith_errcheck\u001b[1;34m(*args, **kwargs)\u001b[0m\n\u001b[0;32m    122\u001b[0m         \u001b[1;32mtry\u001b[0m\u001b[1;33m:\u001b[0m\u001b[1;33m\u001b[0m\u001b[1;33m\u001b[0m\u001b[0m\n\u001b[0;32m    123\u001b[0m             \u001b[0mres\u001b[0m \u001b[1;33m=\u001b[0m \u001b[0mf\u001b[0m\u001b[1;33m(\u001b[0m\u001b[1;33m*\u001b[0m\u001b[0margs\u001b[0m\u001b[1;33m,\u001b[0m \u001b[1;33m**\u001b[0m\u001b[0mkwargs\u001b[0m\u001b[1;33m)\u001b[0m\u001b[1;33m\u001b[0m\u001b[1;33m\u001b[0m\u001b[0m\n\u001b[1;32m--> 124\u001b[1;33m             \u001b[0mcheck_for_spice_error\u001b[0m\u001b[1;33m(\u001b[0m\u001b[0mf\u001b[0m\u001b[1;33m)\u001b[0m\u001b[1;33m\u001b[0m\u001b[1;33m\u001b[0m\u001b[0m\n\u001b[0m\u001b[0;32m    125\u001b[0m             \u001b[1;32mreturn\u001b[0m \u001b[0mres\u001b[0m\u001b[1;33m\u001b[0m\u001b[1;33m\u001b[0m\u001b[0m\n\u001b[0;32m    126\u001b[0m         \u001b[1;32mexcept\u001b[0m \u001b[0mBaseException\u001b[0m\u001b[1;33m:\u001b[0m\u001b[1;33m\u001b[0m\u001b[1;33m\u001b[0m\u001b[0m\n",
      "\u001b[1;32m~\\miniconda3\\envs\\tensorflow\\lib\\site-packages\\spiceypy\\spiceypy.py\u001b[0m in \u001b[0;36mcheck_for_spice_error\u001b[1;34m(f)\u001b[0m\n\u001b[0;32m    106\u001b[0m         \u001b[0mreset\u001b[0m\u001b[1;33m(\u001b[0m\u001b[1;33m)\u001b[0m\u001b[1;33m\u001b[0m\u001b[1;33m\u001b[0m\u001b[0m\n\u001b[0;32m    107\u001b[0m         raise stypes.dynamically_instantiate_spiceyerror(\n\u001b[1;32m--> 108\u001b[1;33m             \u001b[0mshort\u001b[0m\u001b[1;33m=\u001b[0m\u001b[0mshort\u001b[0m\u001b[1;33m,\u001b[0m \u001b[0mexplain\u001b[0m\u001b[1;33m=\u001b[0m\u001b[0mexplain\u001b[0m\u001b[1;33m,\u001b[0m \u001b[0mlong\u001b[0m\u001b[1;33m=\u001b[0m\u001b[0mlong\u001b[0m\u001b[1;33m,\u001b[0m \u001b[0mtraceback\u001b[0m\u001b[1;33m=\u001b[0m\u001b[0mtraceback\u001b[0m\u001b[1;33m\u001b[0m\u001b[1;33m\u001b[0m\u001b[0m\n\u001b[0m\u001b[0;32m    109\u001b[0m         )\n\u001b[0;32m    110\u001b[0m \u001b[1;33m\u001b[0m\u001b[0m\n",
      "\u001b[1;31mSpiceNOLEAPSECONDS\u001b[0m: \n================================================================================\n\nToolkit version: CSPICE66\n\nSPICE(NOLEAPSECONDS) --\n\nThe variable that points to the leapseconds (DELTET/DELTA_AT) could not be located in the kernel pool.  It is likely that the leapseconds kernel has not been loaded via the routine FURNSH.\n\nstr2et_c --> STR2ET --> TTRANS\n\n================================================================================"
     ]
    }
   ],
   "source": [
    "step = 4000\n",
    "utc = ['Feb 12, 2020', 'Jun 11, 2021']\n",
    "\n",
    "# get et values one and two, we could vectorize str2et\n",
    "etOne = spice.str2et(utc[0])\n",
    "etTwo = spice.str2et(utc[1])\n",
    "print(\"ET One: {}, ET Two: {}\".format(etOne, etTwo))"
   ]
  },
  {
   "cell_type": "code",
   "execution_count": null,
   "id": "5afa56b0",
   "metadata": {},
   "outputs": [],
   "source": []
  }
 ],
 "metadata": {
  "kernelspec": {
   "display_name": "Python [conda env:tensorflow]",
   "language": "python",
   "name": "conda-env-tensorflow-py"
  },
  "language_info": {
   "codemirror_mode": {
    "name": "ipython",
    "version": 3
   },
   "file_extension": ".py",
   "mimetype": "text/x-python",
   "name": "python",
   "nbconvert_exporter": "python",
   "pygments_lexer": "ipython3",
   "version": "3.7.10"
  }
 },
 "nbformat": 4,
 "nbformat_minor": 5
}
