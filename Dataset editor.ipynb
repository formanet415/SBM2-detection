{
 "cells": [
  {
   "cell_type": "code",
   "execution_count": 64,
   "id": "a0be6636",
   "metadata": {},
   "outputs": [],
   "source": [
    "import pickle\n",
    "import scipy.io \n",
    "import matplotlib.pyplot as plt\n",
    "import numpy as np"
   ]
  },
  {
   "cell_type": "code",
   "execution_count": 13,
   "id": "c9b91d55",
   "metadata": {},
   "outputs": [],
   "source": [
    "with open('SBM2_raw_data_V5.pickle', 'rb') as f:\n",
    "        FP, AMP, NR, Epoch = pickle.load(f)\n",
    "with open('SBM2_timepos_data_V5.pickle', 'rb') as f:\n",
    "    time, rua = pickle.load(f)\n"
   ]
  },
  {
   "cell_type": "code",
   "execution_count": 57,
   "id": "49de5a02",
   "metadata": {},
   "outputs": [],
   "source": [
    "et = scipy.io.loadmat('et.mat')['et']\n",
    "et = et[0,:]*1e9"
   ]
  },
  {
   "cell_type": "code",
   "execution_count": 35,
   "id": "eac04eab",
   "metadata": {},
   "outputs": [],
   "source": [
    "rua = scipy.io.loadmat('rua.mat')['rua']\n",
    "rua = rua[0,:]"
   ]
  },
  {
   "cell_type": "code",
   "execution_count": 69,
   "id": "b4b9ef79",
   "metadata": {},
   "outputs": [],
   "source": [
    "with open('SBM2_raw_data_V6.pickle', 'wb') as f:\n",
    "    pickle.dump([FP, AMP, NR], f)\n",
    "with open('SBM2_timepos_data_V6.pickle', 'wb') as f:\n",
    "    pickle.dump([time, rua, Epoch, et], f)"
   ]
  },
  {
   "cell_type": "code",
   "execution_count": 106,
   "id": "759a07f3",
   "metadata": {},
   "outputs": [],
   "source": [
    "with open('SBM2_raw_data_V6.pickle', 'rb') as f:\n",
    "    FP, AMP, NR = pickle.load(f)\n",
    "with open('SBM2_timepos_data_V6.pickle', 'rb') as f:\n",
    "    time, rua, Epoch, et = pickle.load(f)\n",
    "    "
   ]
  },
  {
   "cell_type": "code",
   "execution_count": 120,
   "id": "1dd03308",
   "metadata": {},
   "outputs": [],
   "source": [
    "with open('SBM2_raw_data_V6.pickle', 'wb') as f:\n",
    "    pickle.dump([FP, AMP, NR], f)\n",
    "with open('SBM2_timepos_data_V6.pickle', 'wb') as f:\n",
    "    pickle.dump([time, rua, Epoch, et], f)"
   ]
  },
  {
   "cell_type": "code",
   "execution_count": 38,
   "id": "a7485647",
   "metadata": {},
   "outputs": [
    {
     "data": {
      "text/plain": [
       "[<matplotlib.lines.Line2D at 0x187deaae1c0>]"
      ]
     },
     "execution_count": 38,
     "metadata": {},
     "output_type": "execute_result"
    },
    {
     "data": {
      "image/png": "[encoded data removed]",
      "text/plain": [
       "<Figure size 432x288 with 1 Axes>"
      ]
     },
     "metadata": {
      "needs_background": "light"
     },
     "output_type": "display_data"
    }
   ],
   "source": [
    "plt.plot(Epoch)\n",
    "plt.plot(et*1e9)"
   ]
  },
  {
   "cell_type": "code",
   "execution_count": 107,
   "id": "4db95cd0",
   "metadata": {},
   "outputs": [
    {
     "data": {
      "text/plain": [
       "(2373729,)"
      ]
     },
     "execution_count": 107,
     "metadata": {},
     "output_type": "execute_result"
    }
   ],
   "source": [
    "rua.shape"
   ]
  },
  {
   "cell_type": "code",
   "execution_count": null,
   "id": "8c307eee",
   "metadata": {},
   "outputs": [],
   "source": [
    "target = 2330067"
   ]
  },
  {
   "cell_type": "code",
   "execution_count": 108,
   "id": "af9480bb",
   "metadata": {},
   "outputs": [
    {
     "data": {
      "text/plain": [
       "(2330067,)"
      ]
     },
     "execution_count": 108,
     "metadata": {},
     "output_type": "execute_result"
    }
   ],
   "source": [
    "FP.shape"
   ]
  },
  {
   "cell_type": "code",
   "execution_count": 110,
   "id": "628c94d5",
   "metadata": {},
   "outputs": [
    {
     "data": {
      "text/plain": [
       "(2330067,)"
      ]
     },
     "execution_count": 110,
     "metadata": {},
     "output_type": "execute_result"
    }
   ],
   "source": [
    "AMP.shape"
   ]
  },
  {
   "cell_type": "code",
   "execution_count": 111,
   "id": "76d064b7",
   "metadata": {},
   "outputs": [
    {
     "data": {
      "text/plain": [
       "(2330067,)"
      ]
     },
     "execution_count": 111,
     "metadata": {},
     "output_type": "execute_result"
    }
   ],
   "source": [
    "NR.shape"
   ]
  },
  {
   "cell_type": "code",
   "execution_count": 117,
   "id": "dc8a0639",
   "metadata": {},
   "outputs": [
    {
     "data": {
      "text/plain": [
       "(2330067,)"
      ]
     },
     "execution_count": 117,
     "metadata": {},
     "output_type": "execute_result"
    }
   ],
   "source": [
    "time = time[0:2330067]\n",
    "time.shape"
   ]
  },
  {
   "cell_type": "code",
   "execution_count": 118,
   "id": "7ef10eb6",
   "metadata": {},
   "outputs": [
    {
     "data": {
      "text/plain": [
       "(2330067,)"
      ]
     },
     "execution_count": 118,
     "metadata": {},
     "output_type": "execute_result"
    }
   ],
   "source": [
    "rua = rua[0:2330067]\n",
    "rua.shape"
   ]
  },
  {
   "cell_type": "code",
   "execution_count": 119,
   "id": "6ff2eabe",
   "metadata": {},
   "outputs": [
    {
     "data": {
      "text/plain": [
       "(2330067,)"
      ]
     },
     "execution_count": 119,
     "metadata": {},
     "output_type": "execute_result"
    }
   ],
   "source": [
    "Epoch = Epoch[0:2330067]\n",
    "Epoch.shape"
   ]
  },
  {
   "cell_type": "code",
   "execution_count": 68,
   "id": "fd7868fb",
   "metadata": {},
   "outputs": [
    {
     "data": {
      "text/plain": [
       "6.577829541825695e+17"
      ]
     },
     "execution_count": 68,
     "metadata": {},
     "output_type": "execute_result"
    }
   ],
   "source": [
    "et[365288]"
   ]
  },
  {
   "cell_type": "code",
   "execution_count": 100,
   "id": "b401f03b",
   "metadata": {},
   "outputs": [],
   "source": [
    "import cdflib\n",
    "import datetime as dt\n",
    "time = cdflib.cdfepoch.breakdown_tt2000(Epoch)\n",
    "for i in range(len(time)):\n",
    "    time[i] = dt.datetime(time[i][0], time[i][1],time[i][2],time[i][3],time[i][4],time[i][5],time[i][6])"
   ]
  },
  {
   "cell_type": "code",
   "execution_count": 73,
   "id": "c0bed1f1",
   "metadata": {},
   "outputs": [],
   "source": [
    "def find_nearest(array, value,rua):\n",
    "    array = np.asarray(array)\n",
    "    idx = (np.abs(array - value)).argmin()\n",
    "    return rua[idx]"
   ]
  },
  {
   "cell_type": "code",
   "execution_count": 67,
   "id": "a7fe8b0d",
   "metadata": {},
   "outputs": [
    {
     "data": {
      "text/plain": [
       "365288"
      ]
     },
     "execution_count": 67,
     "metadata": {},
     "output_type": "execute_result"
    }
   ],
   "source": [
    "find_nearest(et, Epoch[1200000])"
   ]
  },
  {
   "cell_type": "code",
   "execution_count": 86,
   "id": "de1caa64",
   "metadata": {},
   "outputs": [],
   "source": [
    "a = np.zeros(shape = 100000)\n",
    "for i in range(100000):\n",
    "    a[i] = find_nearest(et,epochrs[i],rua)"
   ]
  },
  {
   "cell_type": "code",
   "execution_count": 84,
   "id": "81fd97f5",
   "metadata": {},
   "outputs": [],
   "source": [
    "import scipy.signal as ree"
   ]
  },
  {
   "cell_type": "code",
   "execution_count": 85,
   "id": "327cfae2",
   "metadata": {},
   "outputs": [],
   "source": [
    "epochrs = ree.resample(Epoch, 100000)"
   ]
  },
  {
   "cell_type": "code",
   "execution_count": 87,
   "id": "15b48387",
   "metadata": {},
   "outputs": [],
   "source": [
    "ars = ree.resample(a,2373729)"
   ]
  },
  {
   "cell_type": "code",
   "execution_count": 91,
   "id": "ff6c00b6",
   "metadata": {},
   "outputs": [
    {
     "data": {
      "text/plain": [
       "[<matplotlib.lines.Line2D at 0x187e04abd30>]"
      ]
     },
     "execution_count": 91,
     "metadata": {},
     "output_type": "execute_result"
    },
    {
     "data": {
      "image/png": "[encoded data removed]",
      "text/plain": [
       "<Figure size 432x288 with 1 Axes>"
      ]
     },
     "metadata": {
      "needs_background": "light"
     },
     "output_type": "display_data"
    }
   ],
   "source": [
    "plt.plot(rua)"
   ]
  }
 ],
 "metadata": {
  "kernelspec": {
   "display_name": "Python 3",
   "language": "python",
   "name": "python3"
  },
  "language_info": {
   "codemirror_mode": {
    "name": "ipython",
    "version": 3
   },
   "file_extension": ".py",
   "mimetype": "text/x-python",
   "name": "python",
   "nbconvert_exporter": "python",
   "pygments_lexer": "ipython3",
   "version": "3.9.5"
  }
 },
 "nbformat": 4,
 "nbformat_minor": 5
}
