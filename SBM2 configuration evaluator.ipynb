{
 "cells": [
  {
   "cell_type": "markdown",
   "id": "dbd523fd",
   "metadata": {},
   "source": [
    "# SBM2 configuration tester\n",
    "\n",
    "This notebook runs the SBM2 detection algorithm with a selected configuration and prints a summary. The summarry includes:\n",
    "- dates and hours on which the algoritm triggered\n",
    "    - dates where the algorithm made a correct detection\n",
    "    - dates where the algorithm made an incorrect detection\n",
    "    - unknown dates which can be added (counted as incorrect detections by default)\n",
    "- configuration accuracy\n",
    "- more?\n",
    "\n",
    "This notebook can be run and edited via a mybinder link in an online environment. \n",
    "\n",
    "Run the cells below and in the ```# Evaluating``` cell, choose which configuration you want to test."
   ]
  },
  {
   "cell_type": "code",
   "execution_count": 1,
   "id": "a5e0261e",
   "metadata": {},
   "outputs": [],
   "source": [
    "# Import cell\n",
    "import numpy as np\n",
    "import pickle"
   ]
  },
  {
   "cell_type": "code",
   "execution_count": 2,
   "id": "fd4a8fa4",
   "metadata": {},
   "outputs": [],
   "source": [
    "# Functions for getting number of events in rolling buffer (DT_LW)\n",
    "def AMP_Check(AMP, EPEAK_THRESH): \n",
    "    return AMP>EPEAK_THRESH\n",
    "\n",
    "def EVENTS_Check(NR, NW_THRES): \n",
    "    return NR>NW_THRES\n",
    "\n",
    "def FREQ_Check(Fp, FP_MIN, FP_MAX, RUA): \n",
    "    fmin = Fp>(FP_MIN/RUA)\n",
    "    fmax = Fp<(FP_MAX/RUA)\n",
    "    temp = fmin.astype(int)+fmax.astype(int)\n",
    "    temp[temp<2] = 0\n",
    "    temp[temp==2] = 1\n",
    "    return temp\n",
    "\n",
    "def SBM2_Check(AMP, NR, FP, EPEAK_THRESH, NW_THRES, FP_MIN, FP_MAX, RUA):\n",
    "    A = AMP_Check(AMP, EPEAK_THRESH)\n",
    "    E = EVENTS_Check(NR, NW_THRES)\n",
    "    F = FREQ_Check(FP, FP_MIN, FP_MAX, RUA)\n",
    "    A = A.astype(int)\n",
    "    E = E.astype(int)\n",
    "    F = F.astype(int)\n",
    "    temp = A + E + F\n",
    "    condmet = A + E + F\n",
    "    temp[temp<3] = 0\n",
    "    temp[temp==3] = 1\n",
    "    temp = temp.astype(int)\n",
    "    return temp, condmet\n",
    "\n",
    "def SBM2_Find(EV, Epoch, DT):\n",
    "    counter = np.zeros(EV.size)\n",
    "    for i in  zip(*np.where(EV>0)):\n",
    "        ind = i[0]\n",
    "        t1 = Epoch[ind]\n",
    "        t0 = t1 - DT*1e9\n",
    "        EP0 = Epoch[0:ind]\n",
    "        counter[ind] = np.sum(EV[np.where(EP0>t0)])\n",
    "    return counter\n",
    "\n",
    "def get_triggers(EIRB, TH, Ep,time, delay):\n",
    "    Ep =Ep*1e-9\n",
    "    x = Ep[np.where(EIRB>TH)]\n",
    "    tEp = np.array([])\n",
    "    for i in x:\n",
    "        if i==x[0]:\n",
    "            t0 = i\n",
    "            tEp = np.append(tEp, t0)\n",
    "        else:\n",
    "            if i-delay>t0:\n",
    "                t0 = i\n",
    "                tEp = np.append(tEp, t0)\n",
    "    indxs = np.array([])\n",
    "    for i in tEp:\n",
    "        ind = np.where(Ep == i)\n",
    "        indxs = np.append(indxs, ind)\n",
    "    return indxs\n",
    "\n",
    "def set_conf(conf):\n",
    "    EPEAK_THRES = conf['EPEAK_THRES']\n",
    "    FP_MIN = conf['FP_MIN'] \n",
    "    FP_MAX = conf['FP_MAX'] \n",
    "    NW_THRES = conf['NW_THRES']\n",
    "    DT_LW = conf['DT_LW']\n",
    "    N_LW_THRES = conf['N_LW_THRES']\n",
    "    DT_SBM2 = conf['DT_SBM2']\n",
    "    RUA = conf['RUA']\n",
    "    return EPEAK_THRES, FP_MIN, FP_MAX, NW_THRES, DT_LW, N_LW_THRES, DT_SBM2, RUA\n",
    "\n",
    "def evaluate(conf, loudness=1):\n",
    "    EPEAK_THRES, FP_MIN, FP_MAX, NW_THRES, DT_LW, N_LW_THRES, DT_SBM2, RUA = set_conf(conf)\n",
    "    \n",
    "    EV, condmet = SBM2_Check(AMP, NR, FP, EPEAK_THRES, NW_THRES, FP_MIN, FP_MAX, rua)\n",
    "    EIRB = SBM2_Find(EV, Epoch, DT_LW)\n",
    "    triggerinx = get_triggers(EIRB, N_LW_THRES, Epoch,time, delay = DT_SBM2)\n",
    "    \n",
    "    Ep = Epoch*1e-9\n",
    "    times = np.array([])\n",
    "    for i in list(triggerinx.astype(int).tolist()):\n",
    "        E1 = Ep[i]\n",
    "        temp = Ep[0:i]\n",
    "        SE = np.sum(EV[np.where(temp>E1-DT_LW)])\n",
    "        if SE>N_LW_THRES:\n",
    "            times = np.append(times, time[i])\n",
    "    \n",
    "    # Known dates - sbm includes known type III. events; fp includes false positives often returned by SBM2 detection algorithm.\n",
    "    # Check dates and add them to the correct list if the Evaluation cell printed 'check DATE'. \n",
    "    sbm = ['2021/05/22','2021/05/23','2020/12/09','2020/12/10','2020/12/11','2020/12/12','2020/12/13','2020/11/18','2021/05/09','2020/11/17','2021/05/29','2020/12/14']\n",
    "    fp  = ['2020/03/05','2021/03/11','2021/06/01','2021/06/04','2021/06/08','2021/05/10','2021/01/13','2021/01/14','2020/12/06','2020/08/31','2020/08/27','2020/08/29','2020/07/24','2020/04/19','2020/04/18','2020/05/02','2020/07/10','2020/12/17','2021/03/27','2021/03/20','2021/05/31','2021/01/05','2021/03/19','2020/12/27','2020/05/30','2020/07/23','2020/08/04','2020/11/24','2020/12/20','2021/06/07','','','','','','','','','','','','','','']\n",
    "    \n",
    "    correct = 0\n",
    "    incorrect = 0 \n",
    "    dates = np.array([])\n",
    "    for i in range(times.size):\n",
    "        date = times[i].strftime('%Y/%m/%d - %H:%M:%S')\n",
    "        if date[0:9] == '2021/01/2' or date[0:9] == '2021/01/3' or date[0:7] == '2021/02' or date[0:7] == '2021/02' or date[0:9] == '2021/03/0' or date[0:9] == '2021/03/1':\n",
    "            continue\n",
    "        dates = np.append(dates, date)\n",
    "    if loudness == 1:\n",
    "        print('Not evaluating on data between Jan 20. 2021 - Mar 19. 2021')\n",
    "    \n",
    "    secG = 0\n",
    "    secB = 0\n",
    "    for i in dates:\n",
    "        if i[0:10] in sbm:\n",
    "            if loudness == 1:\n",
    "                print('correct: '+i)\n",
    "            correct = correct +1\n",
    "            secG = secG + DT_SBM2\n",
    "        else:\n",
    "            incorrect = incorrect + 1 \n",
    "            secB = secB + DT_SBM2\n",
    "            if i[0:10] not in fp:\n",
    "                if loudness == 1:\n",
    "                    print('check ' + i)\n",
    "            else:\n",
    "                if loudness == 1:\n",
    "                    print('incorrect: ' + i)\n",
    "            \n",
    "    print('Total correct triggers: %d' %correct)\n",
    "    print('Total incorrect triggers: %d' %incorrect)\n",
    "    print('----------------------------------')\n",
    "    print('Correct time in SBM2 mode: %ds' %secG)\n",
    "    print('Inorrect time in SBM2 mode: %ds' %secB)\n",
    "    if incorrect != 0:\n",
    "        print('Accuracy %0.2f' %(correct/(correct+incorrect)))"
   ]
  },
  {
   "cell_type": "code",
   "execution_count": 3,
   "id": "7c3d3ce2",
   "metadata": {},
   "outputs": [],
   "source": [
    "# Loading data part 1\n",
    "with open('SBM2_raw_data_V6.pickle', 'rb') as f:\n",
    "    FP, AMP, NR = pickle.load(f)"
   ]
  },
  {
   "cell_type": "code",
   "execution_count": 4,
   "id": "36464f2b",
   "metadata": {},
   "outputs": [],
   "source": [
    "# Loading data part 2 (the data loading was split to avoid mybinder timeout errors)\n",
    "with open('SBM2_timepos_data_V6.pickle', 'rb') as f:\n",
    "    time, rua, Epoch, et = pickle.load(f)"
   ]
  },
  {
   "cell_type": "code",
   "execution_count": 5,
   "id": "acb79b42",
   "metadata": {},
   "outputs": [],
   "source": [
    "# CONFIGURATION CELL #\n",
    "# Confirmation default \n",
    "condef   = {'EPEAK_THRES': 200, 'FP_MIN': 5000, 'FP_MAX': 50000, 'NW_THRES': 2, 'DT_LW': 304 , 'N_LW_THRES': 5 , 'DT_SBM2':  900, 'RUA': 0.5, 'title': '_confirmation', 'type': 'default'}\n",
    "\n",
    "# Degraded default ('_F' is removed for convenience)\n",
    "degdef   = {'EPEAK_THRES': 728, 'FP_MIN': 5000, 'FP_MAX': 50000, 'NW_THRES': 3, 'DT_LW': 1200, 'N_LW_THRES': 20, 'DT_SBM2': 7200, 'RUA': 0.5, 'title': '_degraded',  'type': 'default'}\n",
    "\n",
    "# Outdated confirmation default \n",
    "ocondef  = {'EPEAK_THRES': 728, 'FP_MIN': 5000, 'FP_MAX': 60000, 'NW_THRES': 3, 'DT_LW': 2400, 'N_LW_THRES': 20, 'DT_SBM2': 7200, 'RUA': 0.5, 'title': 'confirmation',  'type': 'outdated-default'}\n",
    "\n",
    "# Outdated degraded default ('_F' is removed for convenience)\n",
    "odegdef  = {'EPEAK_THRES': 728, 'FP_MIN': 5000, 'FP_MAX': 60000, 'NW_THRES': 3, 'DT_LW': 1200, 'N_LW_THRES': 20, 'DT_SBM2': 7200, 'RUA': 0.5, 'title': 'degraded', 'type': 'outdated-default'}\n",
    "\n",
    "# Confirmation default HK\n",
    "condefHK = {'EPEAK_THRES': 200, 'FP_MIN': 5000, 'FP_MAX': 50000, 'NW_THRES': 2, 'DT_LW': 304 , 'N_LW_THRES': 5 , 'DT_SBM2':  900, 'RUA': 0.5, 'title': '_confirmation', 'type': 'default_FROM HK LOG'}\n",
    "\n",
    "# Degraded default ('_F' is removed for convenience) HK\n",
    "degdefHK = {'EPEAK_THRES': 728, 'FP_MIN': 5000, 'FP_MAX': 50000, 'NW_THRES': 3, 'DT_LW': 1200, 'N_LW_THRES': 20, 'DT_SBM2': 7200, 'RUA': 0.5, 'title': '_degraded', 'type': 'default_FROM HK LOG'}\n",
    "\n",
    "# Custom config 1\n",
    "custom1  = {'EPEAK_THRES': 200, 'FP_MIN': 5000, 'FP_MAX': 50000, 'NW_THRES': 1, 'DT_LW': 1200, 'N_LW_THRES': 5 , 'DT_SBM2': 7200, 'RUA': 0.5, 'title': 'custom1', 'type': 'dev'}\n",
    "\n",
    "# Custom config 2\n",
    "custom2  = {'EPEAK_THRES': 150, 'FP_MIN': 5000, 'FP_MAX': 50000, 'NW_THRES': 1, 'DT_LW': 1200, 'N_LW_THRES': 5 , 'DT_SBM2': 7200, 'RUA': 0.5, 'title': 'custom2', 'type': 'dev'}\n",
    "\n",
    "# Custom config 3 - Type III optimized\n",
    "custom3  = {'EPEAK_THRES': 200, 'FP_MIN': 6000, 'FP_MAX': 60000, 'NW_THRES': 1, 'DT_LW': 1200, 'N_LW_THRES': 5 , 'DT_SBM2':  7200, 'RUA': 1.0, 'title': 'custom3', 'type': 'dev - Type III optimized'}\n",
    "\n",
    "# Custom config 3 - Type III optimized\n",
    "custom4  = {'EPEAK_THRES': 120, 'FP_MIN': 6000, 'FP_MAX': 50000, 'NW_THRES': 1, 'DT_LW':  600, 'N_LW_THRES': 7 , 'DT_SBM2':  7200, 'RUA': 1.0, 'title': 'custom4', 'type': 'dev - Type III optimized'}\n",
    "\n",
    "# Custom config 3 - Type III optimized\n",
    "custom5  = {'EPEAK_THRES': 100, 'FP_MIN': 6000, 'FP_MAX': 50000, 'NW_THRES': 1, 'DT_LW':  600, 'N_LW_THRES': 8 , 'DT_SBM2':  7200, 'RUA': 1.0, 'title': 'custom5', 'type': 'dev - Type III optimized'}"
   ]
  },
  {
   "cell_type": "code",
   "execution_count": 6,
   "id": "00ecec51",
   "metadata": {},
   "outputs": [
    {
     "name": "stdout",
     "output_type": "stream",
     "text": [
      "Not evaluating on data between Jan 20. 2021 - Mar 19. 2021\n",
      "Total correct triggers: 0\n",
      "Total incorrect triggers: 0\n",
      "----------------------------------\n",
      "Correct time in SBM2 mode: 0s\n",
      "Inorrect time in SBM2 mode: 0s\n"
     ]
    }
   ],
   "source": [
    "# Evaluating\n",
    "evaluate(degdef)"
   ]
  },
  {
   "cell_type": "code",
   "execution_count": 7,
   "id": "9916f62f",
   "metadata": {
    "scrolled": false
   },
   "outputs": [
    {
     "name": "stdout",
     "output_type": "stream",
     "text": [
      "Not evaluating on data between Jan 20. 2021 - Mar 19. 2021\n",
      "correct: 2020/11/17 - 13:58:36\n",
      "incorrect: 2020/12/27 - 04:46:07\n",
      "incorrect: 2020/12/27 - 08:24:03\n",
      "correct: 2021/05/09 - 16:20:49\n",
      "correct: 2021/05/22 - 00:41:18\n",
      "correct: 2021/05/22 - 07:31:58\n",
      "correct: 2021/05/22 - 07:47:10\n",
      "correct: 2021/05/23 - 08:56:35\n",
      "correct: 2021/05/23 - 10:15:15\n",
      "correct: 2021/05/23 - 11:29:07\n",
      "incorrect: 2021/05/31 - 19:39:28\n",
      "Total correct triggers: 8\n",
      "Total incorrect triggers: 3\n",
      "----------------------------------\n",
      "Correct time in SBM2 mode: 7200s\n",
      "Inorrect time in SBM2 mode: 2700s\n",
      "Accuracy 0.73\n"
     ]
    }
   ],
   "source": [
    "evaluate(condef)"
   ]
  },
  {
   "cell_type": "code",
   "execution_count": 8,
   "id": "d8ebf38d",
   "metadata": {},
   "outputs": [
    {
     "name": "stdout",
     "output_type": "stream",
     "text": [
      "Total correct triggers: 11\n",
      "Total incorrect triggers: 5\n",
      "----------------------------------\n",
      "Correct time in SBM2 mode: 79200s\n",
      "Inorrect time in SBM2 mode: 36000s\n",
      "Accuracy 0.69\n"
     ]
    }
   ],
   "source": [
    "evaluate(custom1, loudness=0)"
   ]
  },
  {
   "cell_type": "code",
   "execution_count": 9,
   "id": "9d080c0c",
   "metadata": {},
   "outputs": [
    {
     "name": "stdout",
     "output_type": "stream",
     "text": [
      "Total correct triggers: 12\n",
      "Total incorrect triggers: 10\n",
      "----------------------------------\n",
      "Correct time in SBM2 mode: 86400s\n",
      "Inorrect time in SBM2 mode: 72000s\n",
      "Accuracy 0.55\n"
     ]
    }
   ],
   "source": [
    "evaluate(custom2, loudness=0)"
   ]
  },
  {
   "cell_type": "code",
   "execution_count": 10,
   "id": "d3307139",
   "metadata": {},
   "outputs": [
    {
     "name": "stdout",
     "output_type": "stream",
     "text": [
      "Total correct triggers: 11\n",
      "Total incorrect triggers: 4\n",
      "----------------------------------\n",
      "Correct time in SBM2 mode: 79200s\n",
      "Inorrect time in SBM2 mode: 28800s\n",
      "Accuracy 0.73\n"
     ]
    }
   ],
   "source": [
    "evaluate(custom3, loudness=0)"
   ]
  },
  {
   "cell_type": "code",
   "execution_count": 11,
   "id": "14e1ab8a",
   "metadata": {
    "scrolled": false
   },
   "outputs": [
    {
     "name": "stdout",
     "output_type": "stream",
     "text": [
      "Total correct triggers: 10\n",
      "Total incorrect triggers: 5\n",
      "----------------------------------\n",
      "Correct time in SBM2 mode: 72000s\n",
      "Inorrect time in SBM2 mode: 36000s\n",
      "Accuracy 0.67\n"
     ]
    }
   ],
   "source": [
    "evaluate(custom4, loudness=0)"
   ]
  },
  {
   "cell_type": "code",
   "execution_count": 12,
   "id": "13cbcd8c",
   "metadata": {},
   "outputs": [
    {
     "name": "stdout",
     "output_type": "stream",
     "text": [
      "Total correct triggers: 11\n",
      "Total incorrect triggers: 6\n",
      "----------------------------------\n",
      "Correct time in SBM2 mode: 79200s\n",
      "Inorrect time in SBM2 mode: 43200s\n",
      "Accuracy 0.65\n"
     ]
    }
   ],
   "source": [
    "evaluate(custom5, loudness=0)"
   ]
  },
  {
   "cell_type": "code",
   "execution_count": 13,
   "id": "132027bd",
   "metadata": {},
   "outputs": [
    {
     "name": "stdout",
     "output_type": "stream",
     "text": [
      "Not evaluating on data between Jan 20. 2021 - Mar 19. 2021\n",
      "correct: 2020/11/17 - 13:58:36\n",
      "correct: 2020/11/18 - 19:40:28\n",
      "correct: 2020/12/13 - 11:06:05\n",
      "incorrect: 2020/12/27 - 05:03:11\n",
      "incorrect: 2020/12/27 - 08:23:15\n",
      "correct: 2021/05/09 - 16:13:53\n",
      "correct: 2021/05/22 - 00:21:34\n",
      "correct: 2021/05/22 - 04:10:54\n",
      "correct: 2021/05/22 - 07:31:10\n",
      "correct: 2021/05/23 - 05:02:59\n",
      "correct: 2021/05/23 - 08:55:47\n",
      "correct: 2021/05/23 - 11:29:07\n",
      "correct: 2021/05/29 - 00:40:31\n",
      "incorrect: 2021/05/31 - 19:45:04\n",
      "incorrect: 2021/06/08 - 16:01:41\n",
      "Total correct triggers: 11\n",
      "Total incorrect triggers: 4\n",
      "----------------------------------\n",
      "Correct time in SBM2 mode: 79200s\n",
      "Inorrect time in SBM2 mode: 28800s\n",
      "Accuracy 0.73\n"
     ]
    }
   ],
   "source": [
    "evaluate(custom3, loudness=1)"
   ]
  },
  {
   "cell_type": "code",
   "execution_count": 14,
   "id": "4e437a51",
   "metadata": {},
   "outputs": [
    {
     "name": "stdout",
     "output_type": "stream",
     "text": [
      "Not evaluating on data between Jan 20. 2021 - Mar 19. 2021\n",
      "incorrect: 2020/03/05 - 08:13:18\n",
      "correct: 2020/11/17 - 13:59:08\n",
      "incorrect: 2020/11/24 - 15:22:09\n",
      "correct: 2020/12/13 - 10:48:45\n",
      "incorrect: 2020/12/27 - 04:51:27\n",
      "incorrect: 2020/12/27 - 07:50:27\n",
      "correct: 2021/05/09 - 14:28:43\n",
      "correct: 2021/05/09 - 16:28:49\n",
      "correct: 2021/05/22 - 00:22:22\n",
      "correct: 2021/05/22 - 04:15:26\n",
      "correct: 2021/05/22 - 07:31:42\n",
      "correct: 2021/05/23 - 08:56:35\n",
      "correct: 2021/05/23 - 11:29:39\n",
      "correct: 2021/05/29 - 00:41:03\n",
      "incorrect: 2021/05/31 - 20:00:16\n",
      "Total correct triggers: 10\n",
      "Total incorrect triggers: 5\n",
      "----------------------------------\n",
      "Correct time in SBM2 mode: 72000s\n",
      "Inorrect time in SBM2 mode: 36000s\n",
      "Accuracy 0.67\n"
     ]
    }
   ],
   "source": [
    "evaluate(custom4, loudness=1)"
   ]
  },
  {
   "cell_type": "code",
   "execution_count": null,
   "id": "04b0fe48",
   "metadata": {},
   "outputs": [],
   "source": []
  }
 ],
 "metadata": {
  "kernelspec": {
   "display_name": "Python 3",
   "language": "python",
   "name": "python3"
  },
  "language_info": {
   "codemirror_mode": {
    "name": "ipython",
    "version": 3
   },
   "file_extension": ".py",
   "mimetype": "text/x-python",
   "name": "python",
   "nbconvert_exporter": "python",
   "pygments_lexer": "ipython3",
   "version": "3.9.5"
  }
 },
 "nbformat": 4,
 "nbformat_minor": 5
}
