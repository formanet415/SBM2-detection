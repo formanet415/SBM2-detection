{
 "cells": [
  {
   "cell_type": "markdown",
   "id": "50ad1f6a",
   "metadata": {},
   "source": [
    "# SBM2 configuration tester\n",
    "\n",
    "This notebook runs the SBM2 detection algorithm with a selected configuration and prints a summary. The summarry includes:\n",
    "- dates and hours on which the algoritm triggered\n",
    "    - dates where the algorithm made a correct detection\n",
    "    - unknown dates which can be added (counted as false positives by default)\n",
    "- configuration accuracy\n",
    "- more?\n",
    "\n",
    "This notebook can be run and edited via a mybinder link in an online environment. \n",
    "\n",
    "Run the cells below and in the ```# Evaluating``` cell, choose which configuration you want to test."
   ]
  },
  {
   "cell_type": "code",
   "execution_count": 1,
   "id": "a5e0261e",
   "metadata": {},
   "outputs": [],
   "source": [
    "# Import cell\n",
    "import numpy as np\n",
    "import pickle"
   ]
  },
  {
   "cell_type": "code",
   "execution_count": 2,
   "id": "fd4a8fa4",
   "metadata": {},
   "outputs": [],
   "source": [
    "# Functions for getting number of events in rolling buffer (DT_LW)\n",
    "def AMP_Check(AMP, EPEAK_THRESH): \n",
    "    return AMP>EPEAK_THRESH\n",
    "\n",
    "def EVENTS_Check(NR, NW_THRES): \n",
    "    return NR>NW_THRES\n",
    "\n",
    "def FREQ_Check(Fp, FP_MIN, FP_MAX, RUA): \n",
    "    fmin = Fp>(FP_MIN/RUA)\n",
    "    fmax = Fp<(FP_MAX/RUA)\n",
    "    temp = fmin.astype(int)+fmax.astype(int)\n",
    "    temp[temp<2] = 0\n",
    "    temp[temp==2] = 1\n",
    "    return temp\n",
    "\n",
    "def SBM2_Check(AMP, NR, FP, EPEAK_THRESH, NW_THRES, FP_MIN, FP_MAX, RUA):\n",
    "    A = AMP_Check(AMP, EPEAK_THRESH)\n",
    "    E = EVENTS_Check(NR, NW_THRES)\n",
    "    F = FREQ_Check(FP, FP_MIN, FP_MAX, RUA)\n",
    "    A = A.astype(int)\n",
    "    E = E.astype(int)\n",
    "    F = F.astype(int)\n",
    "    temp = A + E + F\n",
    "    temp[temp<3] = 0\n",
    "    temp[temp==3] = 1\n",
    "    temp = temp.astype(int)\n",
    "    return temp\n",
    "\n",
    "def set_conf(conf):\n",
    "    EPEAK_THRES = conf['EPEAK_THRES']\n",
    "    FP_MIN = conf['FP_MIN'] * 0.5\n",
    "    FP_MAX = conf['FP_MAX'] * 0.5\n",
    "    NW_THRES = conf['NW_THRES']\n",
    "    DT_LW = conf['DT_LW']\n",
    "    N_LW_THRES = conf['N_LW_THRES']\n",
    "    return EPEAK_THRES, FP_MIN, FP_MAX, NW_THRES, DT_LW, N_LW_THRES\n",
    "\n",
    "def evaluate(conf):\n",
    "    EPEAK_THRES, FP_MIN, FP_MAX, NW_THRES, DT_LW, N_LW_THRES = set_conf(conf)\n",
    "    \n",
    "    EV = SBM2_Check(AMP, NR, FP, EPEAK_THRES, NW_THRES, FP_MIN, FP_MAX, rua)\n",
    "    EVi = list(np.where(EV==1))[0]\n",
    "    \n",
    "    Ep = Epoch*1e-9\n",
    "    times = np.array([])\n",
    "    for i in list(EVi.tolist()):\n",
    "        E1 = Ep[i]\n",
    "        temp = Ep[0:i]\n",
    "        SE = np.sum(EV[np.where(temp>E1-DT_LW)])\n",
    "        if SE>N_LW_THRES:\n",
    "            times = np.append(times, time[i])\n",
    "    \n",
    "    # Known dates - sbm includes known type III. events; fp includes false positives often returned by SBM2 detection algorithm.\n",
    "    # Check dates and add them to the correct list if the Evaluation cell printed 'check DATE'. \n",
    "    sbm = ['2021/05/22','2021/05/23','2020/12/09','2020/12/10','2020/12/11','2020/12/12','2020/12/13','2020/11/18','2021/05/09','2020/11/17','2021/05/29','2020/12/14']\n",
    "    fp  = ['2021/06/01','2021/06/04','2021/06/08','2021/05/10','2021/01/13','2021/01/14','2020/12/06','2020/08/31','2020/08/27','2020/08/29','2020/07/24','2020/04/19','2020/04/18','2020/05/02','2020/07/10','2020/12/17','2021/03/27','2021/03/20','2021/05/31','2021/01/05','2021/03/19','2020/12/27','2020/05/30','2020/07/23','2020/08/04','2020/11/24','2020/12/20','2021/06/07','','','','','','','','','','','','','','']\n",
    "    \n",
    "    correct = 0\n",
    "    incorrect = 0 \n",
    "    dates = np.array([])\n",
    "    for i in range(times.size):\n",
    "        date = times[i].strftime('%Y/%m/%d - %H')\n",
    "        dates = np.append(dates, date)\n",
    "\n",
    "    for i in np.unique(dates):\n",
    "        if i[0:10] in sbm:\n",
    "            print('correct: '+i)\n",
    "            correct = correct +1\n",
    "        else:\n",
    "            incorrect = incorrect + 1 \n",
    "            if i[0:10] not in fp:\n",
    "                print('check ' + i)\n",
    "            else:\n",
    "                print('incorrect: ' + i)\n",
    "            \n",
    "    print('total correct: ' + str(correct))\n",
    "    print('total incorrect: ' + str(incorrect))\n",
    "    return times"
   ]
  },
  {
   "cell_type": "code",
   "execution_count": 3,
   "id": "57c2696f",
   "metadata": {},
   "outputs": [],
   "source": [
    "# Loading data part 1\n",
    "with open('SBM2_raw_data_V6.pickle', 'rb') as f:\n",
    "    FP, AMP, NR = pickle.load(f)"
   ]
  },
  {
   "cell_type": "code",
   "execution_count": 4,
   "id": "e99f9100",
   "metadata": {},
   "outputs": [],
   "source": [
    "# Loading data part 2 (the data loading was split to avoid mybinder timeout errors)\n",
    "with open('SBM2_timepos_data_V6.pickle', 'rb') as f:\n",
    "    time, rua, Epoch, et = pickle.load(f)"
   ]
  },
  {
   "cell_type": "code",
   "execution_count": 5,
   "id": "acb79b42",
   "metadata": {},
   "outputs": [],
   "source": [
    "# CONFIGURATION CELL #\n",
    "# Confirmation default \n",
    "condef = {'EPEAK_THRES': 200, 'FP_MIN': 5000, 'FP_MAX': 50000, 'NW_THRES': 2, 'DT_LW': 304,  'N_LW_THRES': 5 , 'title': '_confirmation', 'type': 'default'}\n",
    "\n",
    "# Degraded default ('_F' is removed for convenience)\n",
    "degdef = {'EPEAK_THRES': 728, 'FP_MIN': 5000, 'FP_MAX': 50000, 'NW_THRES': 3, 'DT_LW': 1200, 'N_LW_THRES': 20, 'title': '_degraded', 'type': 'default'}\n",
    "\n",
    "# Outdated confirmation default \n",
    "ocondef = {'EPEAK_THRES': 728, 'FP_MIN': 5000, 'FP_MAX': 60000, 'NW_THRES': 3, 'DT_LW': 2400, 'N_LW_THRES': 20, 'title': 'confirmation', 'type': 'outdated-default'}\n",
    "\n",
    "# Outdated degraded default ('_F' is removed for convenience)\n",
    "odegdef = {'EPEAK_THRES': 728, 'FP_MIN': 5000, 'FP_MAX': 60000, 'NW_THRES': 3, 'DT_LW': 1200, 'N_LW_THRES': 20, 'title': 'degraded', 'type': 'outdated-default'}\n",
    "\n",
    "# Custom config 1\n",
    "custom1 = {'EPEAK_THRES': 200, 'FP_MIN': 5000, 'FP_MAX': 50000, 'NW_THRES': 1, 'DT_LW': 1200,  'N_LW_THRES': 5 , 'title': 'custom1', 'type': 'dev'}\n",
    "\n",
    "# Custom config 2\n",
    "custom2 = {'EPEAK_THRES': 150, 'FP_MIN': 5000, 'FP_MAX': 50000, 'NW_THRES': 1, 'DT_LW': 1200,  'N_LW_THRES': 5 , 'title': 'custom2', 'type': 'dev'}\n"
   ]
  },
  {
   "cell_type": "code",
   "execution_count": 6,
   "id": "00ecec51",
   "metadata": {},
   "outputs": [
    {
     "name": "stdout",
     "output_type": "stream",
     "text": [
      "incorrect: 2020/07/10 - 10\n",
      "correct: 2020/11/17 - 13\n",
      "correct: 2020/11/17 - 14\n",
      "incorrect: 2020/12/27 - 03\n",
      "incorrect: 2020/12/27 - 04\n",
      "incorrect: 2020/12/27 - 05\n",
      "incorrect: 2020/12/27 - 06\n",
      "incorrect: 2020/12/27 - 07\n",
      "incorrect: 2020/12/27 - 08\n",
      "incorrect: 2020/12/27 - 09\n",
      "incorrect: 2020/12/27 - 10\n",
      "correct: 2021/05/09 - 16\n",
      "correct: 2021/05/22 - 00\n",
      "correct: 2021/05/22 - 07\n",
      "correct: 2021/05/23 - 08\n",
      "correct: 2021/05/23 - 09\n",
      "correct: 2021/05/23 - 10\n",
      "correct: 2021/05/23 - 11\n",
      "check 2021/05/25 - 07\n",
      "incorrect: 2021/05/31 - 19\n",
      "incorrect: 2021/05/31 - 20\n",
      "incorrect: 2021/06/01 - 02\n",
      "incorrect: 2021/06/04 - 11\n",
      "incorrect: 2021/06/04 - 20\n",
      "incorrect: 2021/06/07 - 20\n",
      "total correct: 9\n",
      "total incorrect: 16\n"
     ]
    }
   ],
   "source": [
    "# Evaluating\n",
    "a = evaluate(condef)"
   ]
  }
 ],
 "metadata": {
  "kernelspec": {
   "display_name": "Python 3",
   "language": "python",
   "name": "python3"
  },
  "language_info": {
   "codemirror_mode": {
    "name": "ipython",
    "version": 3
   },
   "file_extension": ".py",
   "mimetype": "text/x-python",
   "name": "python",
   "nbconvert_exporter": "python",
   "pygments_lexer": "ipython3",
   "version": "3.9.5"
  }
 },
 "nbformat": 4,
 "nbformat_minor": 5
}
