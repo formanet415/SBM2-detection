{
 "cells": [
  {
   "cell_type": "code",
   "execution_count": 2,
   "id": "5022f059",
   "metadata": {},
   "outputs": [],
   "source": [
    "import load_cdf as cdf\n",
    "import numpy as np\n",
    "import math\n",
    "from calendar import monthrange\n",
    "from collections import namedtuple\n",
    "import pickle\n",
    "import scipy.io \n",
    "import scipy.signal\n",
    "\n",
    "import cdflib \n",
    "import datetime as dt"
   ]
  },
  {
   "cell_type": "code",
   "execution_count": 3,
   "id": "ebe7bf20",
   "metadata": {},
   "outputs": [],
   "source": [
    "# loading data\n",
    "\n",
    "with open('backup_SBM2_data_V3.pickle', 'rb') as f:\n",
    "    FP, AMP, NR, time, Epoch, rua = pickle.load(f)\n",
    "rua = rua[:,0]\n",
    "Epoch = np.array(Epoch).astype(int)"
   ]
  },
  {
   "cell_type": "code",
   "execution_count": 5,
   "id": "5278ec02",
   "metadata": {},
   "outputs": [],
   "source": [
    "def AMP_Check(AMP, EPEAK_THRESH_F): # Default = 750\n",
    "    return AMP>EPEAK_THRESH_F"
   ]
  },
  {
   "cell_type": "code",
   "execution_count": 6,
   "id": "2259412b",
   "metadata": {},
   "outputs": [],
   "source": [
    "def EVENTS_Check(NR, NW_THRES_F): # Default = 20\n",
    "    return NR>NW_THRES_F"
   ]
  },
  {
   "cell_type": "code",
   "execution_count": 7,
   "id": "8060460c",
   "metadata": {},
   "outputs": [],
   "source": [
    "def FREQ_Check(Fp, FP_MIN, FP_MAX, RUA): # Default FP_MIN = 5000; FP_MAX = 60000\n",
    "    fmin = Fp>(FP_MIN/RUA)\n",
    "    fmax = Fp<(FP_MAX/RUA)\n",
    "    temp = fmin.astype(int)+fmax.astype(int)\n",
    "    temp[temp<2] = 0\n",
    "    temp[temp==2] = 1\n",
    "    return temp"
   ]
  },
  {
   "cell_type": "code",
   "execution_count": 8,
   "id": "cdda2f36",
   "metadata": {},
   "outputs": [],
   "source": [
    "def SBM2_Check(AMP, NR, FP, EPEAK_THRESH_F, NW_THRES_F, FP_MIN, FP_MAX, RUA):\n",
    "    A = AMP_Check(AMP, EPEAK_THRESH_F)\n",
    "    E = EVENTS_Check(NR, NW_THRES_F)\n",
    "    F = FREQ_Check(FP, FP_MIN, FP_MAX, RUA)\n",
    "    A = A.astype(int)\n",
    "    E = E.astype(int)\n",
    "    F = F.astype(int)\n",
    "    temp = A + E + F\n",
    "    temp[temp<3] = 0\n",
    "    temp[temp==3] = 1\n",
    "    temp = temp.astype(bool)\n",
    "    return temp"
   ]
  },
  {
   "cell_type": "code",
   "execution_count": 9,
   "id": "bb357ef3",
   "metadata": {},
   "outputs": [],
   "source": [
    "def SBM2_Find(events, Epoch, time, DT, THRES):\n",
    "    EP = Epoch[np.where(events==1)]\n",
    "    EV = events[np.where(events==1)]\n",
    "    tt = time[np.where(events==1)]\n",
    "    dates = np.array([])\n",
    "    datesdet = np.array([])\n",
    "    for i in range(EP.shape[0]):\n",
    "        if i>5:\n",
    "            t0 = EP[i]\n",
    "            EP0 = EP[0:i]\n",
    "            EP1 = np.where(EP0>t0-DT)\n",
    "            NE = EP1[0]#.shape#[0]\n",
    "            if NE.shape[0] > THRES: \n",
    "                date = tt[i].strftime('%Y/%m/%d')\n",
    "                if date not in dates:\n",
    "                    dates = np.append(dates, date)\n",
    "                datedet = tt[i].strftime('%Y/%m/%d - %H')\n",
    "                if datedet not in datesdet:\n",
    "                    datesdet = np.append(datesdet, datedet)\n",
    "    print(dates)\n",
    "    print(datesdet)\n",
    "    return(datesdet)"
   ]
  },
  {
   "cell_type": "code",
   "execution_count": 10,
   "id": "c41d4a0c",
   "metadata": {},
   "outputs": [
    {
     "name": "stdout",
     "output_type": "stream",
     "text": [
      "['2020/04/18' '2020/04/19' '2020/05/02' '2020/05/30' '2020/07/10'\n",
      " '2020/07/23' '2020/07/24' '2020/08/04' '2020/08/27' '2020/08/29'\n",
      " '2020/08/31' '2020/11/18' '2020/11/24' '2020/12/06' '2020/12/10'\n",
      " '2020/12/11' '2020/12/14' '2020/12/17' '2020/12/20' '2020/12/27'\n",
      " '2021/01/05' '2021/01/13' '2021/01/14' '2021/03/19' '2021/03/20'\n",
      " '2021/03/27' '2021/05/09' '2021/05/10' '2021/05/22' '2021/05/23'\n",
      " '2021/05/29' '2021/05/31' '2021/06/01' '2021/06/04' '2021/06/07'\n",
      " '2021/06/08']\n",
      "['2020/04/18 - 15' '2020/04/19 - 07' '2020/05/02 - 11' '2020/05/02 - 12'\n",
      " '2020/05/30 - 19' '2020/05/30 - 20' '2020/07/10 - 05' '2020/07/10 - 06'\n",
      " '2020/07/23 - 02' '2020/07/24 - 14' '2020/08/04 - 22' '2020/08/27 - 04'\n",
      " '2020/08/29 - 23' '2020/08/31 - 19' '2020/11/18 - 15' '2020/11/18 - 20'\n",
      " '2020/11/24 - 15' '2020/12/06 - 16' '2020/12/10 - 09' '2020/12/10 - 19'\n",
      " '2020/12/10 - 22' '2020/12/11 - 01' '2020/12/11 - 02' '2020/12/14 - 08'\n",
      " '2020/12/17 - 14' '2020/12/20 - 13' '2020/12/20 - 14' '2020/12/27 - 04'\n",
      " '2020/12/27 - 05' '2020/12/27 - 06' '2020/12/27 - 07' '2020/12/27 - 08'\n",
      " '2020/12/27 - 09' '2020/12/27 - 10' '2021/01/05 - 06' '2021/01/05 - 09'\n",
      " '2021/01/13 - 23' '2021/01/14 - 00' '2021/03/19 - 19' '2021/03/19 - 20'\n",
      " '2021/03/19 - 21' '2021/03/19 - 22' '2021/03/20 - 06' '2021/03/20 - 07'\n",
      " '2021/03/27 - 16' '2021/03/27 - 17' '2021/05/09 - 16' '2021/05/09 - 17'\n",
      " '2021/05/09 - 18' '2021/05/10 - 13' '2021/05/22 - 02' '2021/05/22 - 03'\n",
      " '2021/05/22 - 05' '2021/05/22 - 06' '2021/05/22 - 09' '2021/05/23 - 07'\n",
      " '2021/05/23 - 09' '2021/05/23 - 10' '2021/05/23 - 11' '2021/05/23 - 12'\n",
      " '2021/05/23 - 13' '2021/05/29 - 02' '2021/05/31 - 12' '2021/05/31 - 21'\n",
      " '2021/05/31 - 22' '2021/06/01 - 04' '2021/06/04 - 13' '2021/06/07 - 21'\n",
      " '2021/06/07 - 22' '2021/06/08 - 18']\n"
     ]
    },
    {
     "name": "stderr",
     "output_type": "stream",
     "text": [
      "<ipython-input-9-a62807f11233>:15: FutureWarning: elementwise comparison failed; returning scalar instead, but in the future will perform elementwise comparison\n",
      "  if date not in dates:\n",
      "<ipython-input-9-a62807f11233>:18: FutureWarning: elementwise comparison failed; returning scalar instead, but in the future will perform elementwise comparison\n",
      "  if datedet not in datesdet:\n"
     ]
    }
   ],
   "source": [
    "default = SBM2_Check(AMP, NR, FP, EPEAK_THRESH_F=750, NW_THRES_F=3, FP_MIN=5000, FP_MAX=60000, RUA=rua) # too strict (all 0)\n",
    "NW_EDIT = SBM2_Check(AMP, NR, FP, EPEAK_THRESH_F=750, NW_THRES_F=10, FP_MIN=5000, FP_MAX=60000, RUA=rua) # better\n",
    "Custom0 = SBM2_Check(AMP, NR, FP, EPEAK_THRESH_F=200, NW_THRES_F=0, FP_MIN=3000, FP_MAX=70000, RUA=rua) # experimental\n",
    "Custom1 = SBM2_Check(AMP, NR, FP, EPEAK_THRESH_F=75, NW_THRES_F=0.5, FP_MIN=5000, FP_MAX=20000, RUA=rua) # experimental\n",
    "newdef0 = SBM2_Check(AMP, NR, FP, EPEAK_THRESH_F=75, NW_THRES_F=3, FP_MIN=5000, FP_MAX=60000, RUA=rua) # too strict (all 0)\n",
    "Custom2 = SBM2_Check(AMP, NR, FP, EPEAK_THRESH_F=75, NW_THRES_F=3, FP_MIN=5000, FP_MAX=60000, RUA=rua) # experimental\n",
    "Confirm = SBM2_Check(AMP, NR, FP, EPEAK_THRESH_F=728, NW_THRES_F=3, FP_MIN=5000, FP_MAX=60000, RUA=rua) # experimental\n",
    "Confirm = SBM2_Check(AMP, NR, FP, EPEAK_THRESH_F=300, NW_THRES_F=3, FP_MIN=5000, FP_MAX=60000, RUA=rua) # experimental\n",
    "# ustom2 = {'EPEAK_THRES': 150, 'FP_MIN': 5000, 'FP_MAX': 50000, 'NW_THRES': 1, 'DT_LW': 1200,  'N_LW_THRES': 5 , 'title': 'custom2', 'type': 'dev'}\n",
    "new = SBM2_Check(AMP, NR, FP, EPEAK_THRESH_F=150, NW_THRES_F=1, FP_MIN=2500, FP_MAX=25000, RUA=rua)\n",
    "\n",
    "\n",
    "a = SBM2_Find(Custom1, Epoch, time, 1200, 5)"
   ]
  },
  {
   "cell_type": "code",
   "execution_count": 18,
   "id": "89bb455f",
   "metadata": {},
   "outputs": [
    {
     "name": "stdout",
     "output_type": "stream",
     "text": [
      "incorrect: 2020/04/18 - 15\n",
      "incorrect: 2020/04/19 - 07\n",
      "incorrect: 2020/05/02 - 11\n",
      "incorrect: 2020/05/02 - 12\n",
      "incorrect: 2020/05/30 - 19\n",
      "incorrect: 2020/05/30 - 20\n",
      "incorrect: 2020/07/10 - 05\n",
      "incorrect: 2020/07/10 - 06\n",
      "incorrect: 2020/07/23 - 02\n",
      "incorrect: 2020/07/24 - 14\n",
      "incorrect: 2020/08/04 - 22\n",
      "incorrect: 2020/08/27 - 04\n",
      "incorrect: 2020/08/29 - 23\n",
      "incorrect: 2020/08/31 - 19\n",
      "correct: 2020/11/18 - 15\n",
      "correct: 2020/11/18 - 20\n",
      "incorrect: 2020/11/24 - 15\n",
      "incorrect: 2020/12/06 - 16\n",
      "correct: 2020/12/10 - 09\n",
      "correct: 2020/12/10 - 19\n",
      "correct: 2020/12/10 - 22\n",
      "correct: 2020/12/11 - 01\n",
      "correct: 2020/12/11 - 02\n",
      "correct: 2020/12/14 - 08\n",
      "incorrect: 2020/12/17 - 14\n",
      "incorrect: 2020/12/20 - 13\n",
      "incorrect: 2020/12/20 - 14\n",
      "incorrect: 2020/12/27 - 04\n",
      "incorrect: 2020/12/27 - 05\n",
      "incorrect: 2020/12/27 - 06\n",
      "incorrect: 2020/12/27 - 07\n",
      "incorrect: 2020/12/27 - 08\n",
      "incorrect: 2020/12/27 - 09\n",
      "incorrect: 2020/12/27 - 10\n",
      "incorrect: 2021/01/05 - 06\n",
      "incorrect: 2021/01/05 - 09\n",
      "incorrect: 2021/01/13 - 23\n",
      "incorrect: 2021/01/14 - 00\n",
      "incorrect: 2021/03/19 - 19\n",
      "incorrect: 2021/03/19 - 20\n",
      "incorrect: 2021/03/19 - 21\n",
      "incorrect: 2021/03/19 - 22\n",
      "incorrect: 2021/03/20 - 06\n",
      "incorrect: 2021/03/20 - 07\n",
      "incorrect: 2021/03/27 - 16\n",
      "incorrect: 2021/03/27 - 17\n",
      "correct: 2021/05/09 - 16\n",
      "correct: 2021/05/09 - 17\n",
      "correct: 2021/05/09 - 18\n",
      "incorrect: 2021/05/10 - 13\n",
      "correct: 2021/05/22 - 02\n",
      "correct: 2021/05/22 - 03\n",
      "correct: 2021/05/22 - 05\n",
      "correct: 2021/05/22 - 06\n",
      "correct: 2021/05/22 - 09\n",
      "correct: 2021/05/23 - 07\n",
      "correct: 2021/05/23 - 09\n",
      "correct: 2021/05/23 - 10\n",
      "correct: 2021/05/23 - 11\n",
      "correct: 2021/05/23 - 12\n",
      "correct: 2021/05/23 - 13\n",
      "correct: 2021/05/29 - 02\n",
      "incorrect: 2021/05/31 - 12\n",
      "incorrect: 2021/05/31 - 21\n",
      "incorrect: 2021/05/31 - 22\n",
      "incorrect: 2021/06/01 - 04\n",
      "incorrect: 2021/06/04 - 13\n",
      "incorrect: 2021/06/07 - 21\n",
      "incorrect: 2021/06/07 - 22\n",
      "incorrect: 2021/06/08 - 18\n",
      "total correct: 23\n",
      "total incorrect: 47\n"
     ]
    }
   ],
   "source": [
    "def get_ratio(a):\n",
    "    sbm = ['2021/05/22','2021/05/23','2020/12/09','2020/12/10','2020/12/11','2020/12/12','2020/12/13','2020/11/18','2021/05/09','2020/11/17','2021/05/29','2020/12/14']\n",
    "    fp = ['2021/06/01','2021/06/04','2021/06/08','2021/05/10','2021/01/13','2021/01/14','2020/12/06','2020/08/31','2020/08/27','2020/08/29','2020/07/24','2020/04/19','2020/04/18','2020/05/02','2020/07/10','2020/12/17','2021/03/27','2021/03/20','2021/05/31','2021/01/05','2021/03/19','2020/12/27','2020/05/30','2020/07/23','2020/08/04','2020/11/24','2020/12/20','2021/06/07','','','','','','','','','','','','','','']\n",
    "    correct = 0\n",
    "    false = 0\n",
    "    for i in a:\n",
    "        if i[0:10] in sbm:\n",
    "            print('correct: '+i)\n",
    "            correct = correct +1\n",
    "        else:\n",
    "            false = false + 1 \n",
    "            if i[0:10] not in fp:\n",
    "                print('check ' + i)\n",
    "            else:\n",
    "                print('incorrect: ' + i)\n",
    "    return correct,false\n",
    "correct,false = get_ratio(a)\n",
    "print('total correct: ' + str(correct))\n",
    "print('total incorrect: ' + str(false))"
   ]
  },
  {
   "cell_type": "code",
   "execution_count": 156,
   "id": "768958ce",
   "metadata": {},
   "outputs": [
    {
     "name": "stderr",
     "output_type": "stream",
     "text": [
      "C:\\Users\\tform\\miniconda3\\envs\\tensorflow\\lib\\site-packages\\ipykernel_launcher.py:15: FutureWarning: elementwise comparison failed; returning scalar instead, but in the future will perform elementwise comparison\n",
      "  from ipykernel import kernelapp as app\n",
      "C:\\Users\\tform\\miniconda3\\envs\\tensorflow\\lib\\site-packages\\ipykernel_launcher.py:18: FutureWarning: elementwise comparison failed; returning scalar instead, but in the future will perform elementwise comparison\n"
     ]
    },
    {
     "name": "stdout",
     "output_type": "stream",
     "text": [
      "[[0.71 0.71 0.72 0.72 0.8  0.84 0.78 0.81 0.81 0.76 0.76 0.73 0.73 0.71\n",
      "  0.71 0.74]\n",
      " [0.76 0.73 0.74 0.74 0.78 0.78 0.78 0.72 0.72 0.72 0.76 0.73 0.73 0.73\n",
      "  0.77 0.77]\n",
      " [1.   0.83 0.76 0.73 0.82 0.82 0.82 0.82 0.75 0.75 0.75 0.75 0.79 0.76\n",
      "  0.76 0.76]\n",
      " [1.   0.93 0.93 0.82 0.78 0.78 0.83 0.84 0.8  0.76 0.81 0.81 0.81 0.86\n",
      "  0.86 0.86]\n",
      " [0.92 0.92 0.92 0.75 0.75 0.75 0.75 0.81 0.81 0.82 0.78 0.74 0.74 0.74\n",
      "  0.74 0.75]\n",
      " [1.43 1.   0.91 0.73 0.8  0.75 0.75 0.81 0.81 0.81 0.81 0.76 0.76 0.82\n",
      "  0.82 0.74]\n",
      " [1.67 1.25 1.11 0.91 0.71 0.73 0.73 0.73 0.69 0.69 0.69 0.69 0.71 0.71\n",
      "  0.71 0.71]]\n",
      "[[17. 17. 18. 18. 20. 21. 21. 22. 22. 22. 22. 22. 22. 22. 22. 23.]\n",
      " [16. 16. 17. 17. 18. 18. 18. 18. 18. 18. 19. 19. 19. 19. 20. 20.]\n",
      " [15. 15. 16. 16. 18. 18. 18. 18. 18. 18. 18. 18. 19. 19. 19. 19.]\n",
      " [13. 13. 14. 14. 14. 14. 15. 16. 16. 16. 17. 17. 17. 19. 19. 19.]\n",
      " [11. 11. 11. 12. 12. 12. 12. 13. 13. 14. 14. 14. 14. 14. 14. 15.]\n",
      " [10. 10. 10. 11. 12. 12. 12. 13. 13. 13. 13. 13. 13. 14. 14. 14.]\n",
      " [10. 10. 10. 10. 10. 11. 11. 11. 11. 11. 11. 11. 12. 12. 12. 12.]]\n"
     ]
    }
   ],
   "source": [
    "dts = np.arange(1000,2501,100)\n",
    "nrs = np.arange(10,23,2)\n",
    "xd1 = np.zeros(shape = [7,16])\n",
    "xd2 = np.zeros(shape = [7,16])\n",
    "for i in range(7):\n",
    "    for j in range(16):\n",
    "        t, f = get_ratio(SBM2_Find(Custom1, Epoch, time, dts[j], nrs[i]))\n",
    "        xd1[i,j] = t/f\n",
    "        xd2[i,j] = t\n",
    "        \n",
    "print(np.round(xd1, decimals = 2))\n",
    "print(xd2)"
   ]
  },
  {
   "cell_type": "code",
   "execution_count": 157,
   "id": "a7152e4c",
   "metadata": {},
   "outputs": [],
   "source": [
    "xd2v2 = xd2\n",
    "xd2v2[xd2v2<18] = 0"
   ]
  },
  {
   "cell_type": "code",
   "execution_count": 158,
   "id": "3b3feb10",
   "metadata": {},
   "outputs": [
    {
     "data": {
      "text/plain": [
       "<matplotlib.image.AxesImage at 0x1818939ed08>"
      ]
     },
     "execution_count": 158,
     "metadata": {},
     "output_type": "execute_result"
    },
    {
     "data": {
      "image/png": "[encoded data removed]",
      "text/plain": [
       "<Figure size 432x288 with 1 Axes>"
      ]
     },
     "metadata": {
      "needs_background": "light"
     },
     "output_type": "display_data"
    }
   ],
   "source": [
    "plt.imshow(xd1)"
   ]
  },
  {
   "cell_type": "code",
   "execution_count": 159,
   "id": "4baec8a8",
   "metadata": {
    "scrolled": true
   },
   "outputs": [
    {
     "data": {
      "text/plain": [
       "<matplotlib.image.AxesImage at 0x181896a8b88>"
      ]
     },
     "execution_count": 159,
     "metadata": {},
     "output_type": "execute_result"
    },
    {
     "data": {
      "image/png": "[encoded data removed]",
      "text/plain": [
       "<Figure size 432x288 with 1 Axes>"
      ]
     },
     "metadata": {
      "needs_background": "light"
     },
     "output_type": "display_data"
    }
   ],
   "source": [
    "plt.imshow(xd2)"
   ]
  },
  {
   "cell_type": "code",
   "execution_count": 164,
   "id": "e203ca03",
   "metadata": {},
   "outputs": [
    {
     "data": {
      "text/plain": [
       "<matplotlib.image.AxesImage at 0x18187648e08>"
      ]
     },
     "execution_count": 164,
     "metadata": {},
     "output_type": "execute_result"
    },
    {
     "data": {
      "image/png": "[encoded data removed]",
      "text/plain": [
       "<Figure size 432x288 with 1 Axes>"
      ]
     },
     "metadata": {
      "needs_background": "light"
     },
     "output_type": "display_data"
    }
   ],
   "source": [
    "plt.imshow(xd1*20+xd2v2)"
   ]
  },
  {
   "cell_type": "code",
   "execution_count": 165,
   "id": "78b5eb54",
   "metadata": {},
   "outputs": [
    {
     "data": {
      "text/plain": [
       "array([[14, 14, 32, 32, 36, 37, 36, 38, 38, 37, 37, 36, 36, 36, 36, 37],\n",
       "       [15, 14, 14, 14, 33, 33, 33, 32, 32, 32, 34, 33, 33, 33, 35, 35],\n",
       "       [20, 16, 15, 14, 34, 34, 34, 34, 33, 33, 33, 33, 34, 34, 34, 34],\n",
       "       [20, 18, 18, 16, 15, 15, 16, 16, 16, 15, 16, 16, 16, 36, 36, 36],\n",
       "       [18, 18, 18, 15, 15, 15, 15, 16, 16, 16, 15, 14, 14, 14, 14, 15],\n",
       "       [28, 20, 18, 14, 16, 15, 15, 16, 16, 16, 16, 15, 15, 16, 16, 14],\n",
       "       [33, 25, 22, 18, 14, 14, 14, 14, 13, 13, 13, 13, 14, 14, 14, 14]])"
      ]
     },
     "execution_count": 165,
     "metadata": {},
     "output_type": "execute_result"
    }
   ],
   "source": [
    "(xd1*20+xd2v2).astype(int)"
   ]
  },
  {
   "cell_type": "code",
   "execution_count": 152,
   "id": "a2d40c5e",
   "metadata": {},
   "outputs": [
    {
     "data": {
      "text/plain": [
       "array([1000, 1100, 1200, 1300, 1400, 1500, 1600, 1700, 1800, 1900, 2000,\n",
       "       2100, 2200, 2300, 2400, 2500])"
      ]
     },
     "execution_count": 152,
     "metadata": {},
     "output_type": "execute_result"
    }
   ],
   "source": [
    "dts"
   ]
  },
  {
   "cell_type": "code",
   "execution_count": 153,
   "id": "18a2fde3",
   "metadata": {},
   "outputs": [
    {
     "data": {
      "text/plain": [
       "array([ 9, 11, 13, 15, 17, 19, 21])"
      ]
     },
     "execution_count": 153,
     "metadata": {},
     "output_type": "execute_result"
    }
   ],
   "source": [
    "nrs"
   ]
  },
  {
   "cell_type": "code",
   "execution_count": 126,
   "id": "9eb03b57",
   "metadata": {},
   "outputs": [
    {
     "data": {
      "text/plain": [
       "[<matplotlib.lines.Line2D at 0x181f3c56388>]"
      ]
     },
     "execution_count": 126,
     "metadata": {},
     "output_type": "execute_result"
    },
    {
     "data": {
      "image/png": "[encoded data removed]",
      "text/plain": [
       "<Figure size 432x288 with 1 Axes>"
      ]
     },
     "metadata": {
      "needs_background": "light"
     },
     "output_type": "display_data"
    }
   ],
   "source": [
    "import matplotlib.pyplot as plt\n",
    "import matplotlib.dates as md\n",
    "plt.xticks( rotation=25 )\n",
    "ax=plt.gca()\n",
    "xfmt = md.DateFormatter('%Y-%m-%d')\n",
    "ax.xaxis.set_major_formatter(xfmt)\n",
    "\n",
    "plt.plot(time,NW_EDIT)"
   ]
  },
  {
   "cell_type": "code",
   "execution_count": 20,
   "id": "63858f08",
   "metadata": {},
   "outputs": [],
   "source": [
    "events = NW_EDIT"
   ]
  },
  {
   "cell_type": "code",
   "execution_count": 21,
   "id": "0ce01017",
   "metadata": {},
   "outputs": [],
   "source": [
    "EP = Epoch[np.where(events==1)]"
   ]
  },
  {
   "cell_type": "code",
   "execution_count": 22,
   "id": "07046328",
   "metadata": {},
   "outputs": [],
   "source": [
    "EV = events[np.where(events==1)]"
   ]
  },
  {
   "cell_type": "code",
   "execution_count": 23,
   "id": "c3eed413",
   "metadata": {},
   "outputs": [
    {
     "data": {
      "text/plain": [
       "283"
      ]
     },
     "execution_count": 23,
     "metadata": {},
     "output_type": "execute_result"
    }
   ],
   "source": [
    "EP.shape[0]"
   ]
  },
  {
   "cell_type": "code",
   "execution_count": 12,
   "id": "0d57a934",
   "metadata": {},
   "outputs": [
    {
     "data": {
      "text/plain": [
       "array([datetime.datetime(2020, 2, 25, 1, 20, 5, 961723),\n",
       "       datetime.datetime(2020, 2, 25, 1, 20, 15, 961739),\n",
       "       datetime.datetime(2020, 2, 25, 1, 20, 25, 961755), ...,\n",
       "       datetime.datetime(2021, 6, 11, 6, 10, 17, 784307),\n",
       "       datetime.datetime(2021, 6, 11, 6, 10, 33, 784333),\n",
       "       datetime.datetime(2021, 6, 11, 6, 10, 49, 784360)], dtype=object)"
      ]
     },
     "execution_count": 12,
     "metadata": {},
     "output_type": "execute_result"
    }
   ],
   "source": [
    "time"
   ]
  }
 ],
 "metadata": {
  "kernelspec": {
   "display_name": "Python 3",
   "language": "python",
   "name": "python3"
  },
  "language_info": {
   "codemirror_mode": {
    "name": "ipython",
    "version": 3
   },
   "file_extension": ".py",
   "mimetype": "text/x-python",
   "name": "python",
   "nbconvert_exporter": "python",
   "pygments_lexer": "ipython3",
   "version": "3.9.5"
  }
 },
 "nbformat": 4,
 "nbformat_minor": 5
}
