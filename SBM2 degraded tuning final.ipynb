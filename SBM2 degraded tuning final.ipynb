{
 "cells": [
  {
   "cell_type": "code",
   "execution_count": 1,
   "id": "5022f059",
   "metadata": {},
   "outputs": [],
   "source": [
    "import load_cdf as cdf\n",
    "import numpy as np\n",
    "import math\n",
    "from calendar import monthrange\n",
    "from collections import namedtuple\n",
    "import pickle\n",
    "import scipy.io \n",
    "import scipy.signal\n",
    "\n",
    "import cdflib \n",
    "import datetime as dt"
   ]
  },
  {
   "cell_type": "code",
   "execution_count": 2,
   "id": "ebe7bf20",
   "metadata": {},
   "outputs": [],
   "source": [
    "# loading data\n",
    "\n",
    "with open('backup_SBM2_data_V3.pickle', 'rb') as f:\n",
    "    FP, AMP, NR, time, Epoch, rua = pickle.load(f)\n",
    "rua = rua[:,0]\n",
    "Epoch = np.array(Epoch).astype(int)"
   ]
  },
  {
   "cell_type": "code",
   "execution_count": 3,
   "id": "5278ec02",
   "metadata": {},
   "outputs": [],
   "source": [
    "def AMP_Check(AMP, EPEAK_THRESH_F): # Default = 750\n",
    "    return AMP>EPEAK_THRESH_F"
   ]
  },
  {
   "cell_type": "code",
   "execution_count": 4,
   "id": "2259412b",
   "metadata": {},
   "outputs": [],
   "source": [
    "def EVENTS_Check(NR, NW_THRES_F): # Default = 20\n",
    "    return NR>NW_THRES_F"
   ]
  },
  {
   "cell_type": "code",
   "execution_count": 5,
   "id": "8060460c",
   "metadata": {},
   "outputs": [],
   "source": [
    "def FREQ_Check(Fp, FP_MIN, FP_MAX, RUA): # Default FP_MIN = 5000; FP_MAX = 60000\n",
    "    fmin = Fp>(FP_MIN/RUA)\n",
    "    fmax = Fp<(FP_MAX/RUA)\n",
    "    temp = fmin.astype(int)+fmax.astype(int)\n",
    "    temp[temp<2] = 0\n",
    "    temp[temp==2] = 1\n",
    "    return temp"
   ]
  },
  {
   "cell_type": "code",
   "execution_count": 6,
   "id": "cdda2f36",
   "metadata": {},
   "outputs": [],
   "source": [
    "def SBM2_Check(AMP, NR, FP, EPEAK_THRESH_F, NW_THRES_F, FP_MIN, FP_MAX, RUA):\n",
    "    A = AMP_Check(AMP, EPEAK_THRESH_F)\n",
    "    E = EVENTS_Check(NR, NW_THRES_F)\n",
    "    F = FREQ_Check(FP, FP_MIN, FP_MAX, RUA)\n",
    "    A = A.astype(int)\n",
    "    E = E.astype(int)\n",
    "    F = F.astype(int)\n",
    "    temp = A + E + F\n",
    "    temp[temp<3] = 0\n",
    "    temp[temp==3] = 1\n",
    "    temp = temp.astype(bool)\n",
    "    return temp"
   ]
  },
  {
   "cell_type": "code",
   "execution_count": 20,
   "id": "bb357ef3",
   "metadata": {},
   "outputs": [],
   "source": [
    "def SBM2_Find(events, Epoch, DT, THRES):\n",
    "    EP = Epoch[np.where(events==1)]\n",
    "    EV = events[np.where(events==1)]\n",
    "    for i in range(EP.shape[0]):\n",
    "        t1 = EP[i]\n",
    "        t0 = t1-DT\n",
    "        NE = np.sum(EV[np.where(abs(t0-(DT/2)-EP[i])<(DT/2))])\n",
    "        if NE > THRES:\n",
    "            print(NE)\n",
    "            print(EP[i])\n",
    "            print('_____')"
   ]
  },
  {
   "cell_type": "code",
   "execution_count": 22,
   "id": "c41d4a0c",
   "metadata": {},
   "outputs": [],
   "source": [
    "default = SBM2_Check(AMP, NR, FP, EPEAK_THRESH_F=750, NW_THRES_F=20, FP_MIN=5000, FP_MAX=60000, RUA=rua) # too strict (all 0)\n",
    "NW_EDIT = SBM2_Check(AMP, NR, FP, EPEAK_THRESH_F=750, NW_THRES_F=10, FP_MIN=5000, FP_MAX=60000, RUA=rua) # better\n",
    "\n",
    "SBM2_Find(NW_EDIT, Epoch, 1200, 20)"
   ]
  },
  {
   "cell_type": "code",
   "execution_count": 8,
   "id": "9eb03b57",
   "metadata": {},
   "outputs": [
    {
     "data": {
      "text/plain": [
       "[<matplotlib.lines.Line2D at 0x184407805c8>]"
      ]
     },
     "execution_count": 8,
     "metadata": {},
     "output_type": "execute_result"
    },
    {
     "data": {
      "image/png": "[encoded data removed]",
      "text/plain": [
       "<Figure size 432x288 with 1 Axes>"
      ]
     },
     "metadata": {
      "needs_background": "light"
     },
     "output_type": "display_data"
    }
   ],
   "source": [
    "import matplotlib.pyplot as plt\n",
    "import matplotlib.dates as md\n",
    "plt.xticks( rotation=25 )\n",
    "ax=plt.gca()\n",
    "xfmt = md.DateFormatter('%Y-%m-%d')\n",
    "ax.xaxis.set_major_formatter(xfmt)\n",
    "\n",
    "plt.plot(time,NW_EDIT)"
   ]
  },
  {
   "cell_type": "code",
   "execution_count": 21,
   "id": "0ce01017",
   "metadata": {},
   "outputs": [
    {
     "data": {
      "text/plain": [
       "array([1582590005, 1582590015, 1582590025, ..., 1623384617, 1623384633,\n",
       "       1623384649])"
      ]
     },
     "execution_count": 21,
     "metadata": {},
     "output_type": "execute_result"
    }
   ],
   "source": [
    "Epoch"
   ]
  },
  {
   "cell_type": "code",
   "execution_count": 26,
   "id": "c3eed413",
   "metadata": {},
   "outputs": [
    {
     "data": {
      "text/plain": [
       "2330067"
      ]
     },
     "execution_count": 26,
     "metadata": {},
     "output_type": "execute_result"
    }
   ],
   "source": [
    "NW_EDIT.shape[0]"
   ]
  }
 ],
 "metadata": {
  "kernelspec": {
   "display_name": "Python [conda env:tensorflow]",
   "language": "python",
   "name": "conda-env-tensorflow-py"
  },
  "language_info": {
   "codemirror_mode": {
    "name": "ipython",
    "version": 3
   },
   "file_extension": ".py",
   "mimetype": "text/x-python",
   "name": "python",
   "nbconvert_exporter": "python",
   "pygments_lexer": "ipython3",
   "version": "3.7.10"
  }
 },
 "nbformat": 4,
 "nbformat_minor": 5
}
