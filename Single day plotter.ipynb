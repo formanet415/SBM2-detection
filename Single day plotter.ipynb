{
 "cells": [
  {
   "cell_type": "markdown",
   "id": "1a298b74",
   "metadata": {},
   "source": [
    "# Single day plotter for SBM2 detection threshold optimization\n",
    "\n",
    "The criteria for the SBM2 detection/confirmation algorithm are *amplitude*, *frequency* and *number of events*. The optimal threshold values are to be determined by plotting out the variables during several type III. events. This code also shows how the algorithm would perform when confirming the type III. events which were encountered so far.\n",
    "\n",
    "Run the cells below and follow instructions in the markdown cells."
   ]
  },
  {
   "cell_type": "code",
   "execution_count": 1,
   "id": "3e077a28",
   "metadata": {},
   "outputs": [
    {
     "ename": "ModuleNotFoundError",
     "evalue": "No module named 'scipy'",
     "output_type": "error",
     "traceback": [
      "\u001b[1;31m---------------------------------------------------------------------------\u001b[0m",
      "\u001b[1;31mModuleNotFoundError\u001b[0m                       Traceback (most recent call last)",
      "\u001b[1;32m<ipython-input-1-93ed9c8ca029>\u001b[0m in \u001b[0;36m<module>\u001b[1;34m\u001b[0m\n\u001b[0;32m      6\u001b[0m \u001b[1;32mfrom\u001b[0m \u001b[0mcollections\u001b[0m \u001b[1;32mimport\u001b[0m \u001b[0mnamedtuple\u001b[0m \u001b[1;31m#\u001b[0m\u001b[1;33m\u001b[0m\u001b[1;33m\u001b[0m\u001b[0m\n\u001b[0;32m      7\u001b[0m \u001b[1;32mimport\u001b[0m \u001b[0mpickle\u001b[0m\u001b[1;33m\u001b[0m\u001b[1;33m\u001b[0m\u001b[0m\n\u001b[1;32m----> 8\u001b[1;33m \u001b[1;32mimport\u001b[0m \u001b[0mscipy\u001b[0m\u001b[1;33m.\u001b[0m\u001b[0mio\u001b[0m\u001b[1;33m\u001b[0m\u001b[1;33m\u001b[0m\u001b[0m\n\u001b[0m\u001b[0;32m      9\u001b[0m \u001b[1;32mimport\u001b[0m \u001b[0mscipy\u001b[0m\u001b[1;33m.\u001b[0m\u001b[0msignal\u001b[0m\u001b[1;33m\u001b[0m\u001b[1;33m\u001b[0m\u001b[0m\n\u001b[0;32m     10\u001b[0m \u001b[1;33m\u001b[0m\u001b[0m\n",
      "\u001b[1;31mModuleNotFoundError\u001b[0m: No module named 'scipy'"
     ]
    }
   ],
   "source": [
    "# Import cell\n",
    "import load_cdf as cdf\n",
    "import numpy as np\n",
    "import math\n",
    "from calendar import monthrange #\n",
    "from collections import namedtuple #\n",
    "import pickle\n",
    "import scipy.io \n",
    "import scipy.signal\n",
    "\n",
    "import cdflib \n",
    "import matplotlib.dates as md\n",
    "import matplotlib\n",
    "from matplotlib import pyplot as plt\n",
    "import datetime as dt\n",
    "matplotlib.rcParams['figure.figsize'] = [20, 10]"
   ]
  },
  {
   "cell_type": "markdown",
   "id": "76c5e311",
   "metadata": {},
   "source": [
    "The cell below contains a loader function and a function which sets the configuration for the detection algorithm."
   ]
  },
  {
   "cell_type": "code",
   "execution_count": 2,
   "id": "230f73d2",
   "metadata": {},
   "outputs": [],
   "source": [
    "# Loading data and setting threshold values\n",
    "def get_rua(epoch0):\n",
    "    with open('SBM2_raw_data_V5.pickle', 'rb') as f:\n",
    "        FP, AMP, NR, Epoch = pickle.load(f)\n",
    "    with open('SBM2_timepos_data_V5.pickle', 'rb') as f:\n",
    "        time, rua = pickle.load(f)\n",
    "    rua = rua[:,0]\n",
    "    return (rua[np.where(Epoch==epoch0)])\n",
    "\n",
    "def load_stat(year, month, day):\n",
    "    data = cdf.load_rpw('stat', year, month, day, 'L1')\n",
    "    time = cdflib.cdfepoch.breakdown_tt2000(data['Epoch'])\n",
    "    for i in range(len(time)):\n",
    "        time[i] = dt.datetime(time[i][0], time[i][1], time[i][2], time[i][3], time[i][4], time[i][5], time[i][6])\n",
    "\n",
    "    Fp = 1024 * 2 ** (data['WA_MED_FREQ'] / 32)\n",
    "    WA_AMP_MED = data['WA_AMP_MED']\n",
    "    WA_NR_EVENTS = data['WA_NR_EVENTS']\n",
    "    RUA = get_rua(data['Epoch'][0])\n",
    "    return time, Fp, WA_AMP_MED, WA_NR_EVENTS, RUA, data['Epoch']\n",
    "\n",
    "\n",
    "def set_conf(conf):\n",
    "    EPEAK_THRES = conf['EPEAK_THRES']\n",
    "    FP_MIN = conf['FP_MIN']\n",
    "    FP_MAX = conf['FP_MAX']\n",
    "    NW_THRES = conf['NW_THRES']\n",
    "    DT_LW = conf['DT_LW']\n",
    "    N_LW_THRES = conf['N_LW_THRES']\n",
    "    return EPEAK_THRES, FP_MIN, FP_MAX, NW_THRES, DT_LW, N_LW_THRES"
   ]
  },
  {
   "cell_type": "markdown",
   "id": "92aa380a",
   "metadata": {},
   "source": [
    "The cell below contains the algorithm function which checks wheter the algorithm detects SBM2."
   ]
  },
  {
   "cell_type": "code",
   "execution_count": 3,
   "id": "3ed013b4",
   "metadata": {},
   "outputs": [],
   "source": [
    "# Getting number of events in rolling buffer (DT_LW)\n",
    "def AMP_Check(AMP, EPEAK_THRESH): \n",
    "    return AMP>EPEAK_THRESH\n",
    "\n",
    "def EVENTS_Check(NR, NW_THRES): \n",
    "    return NR>NW_THRES\n",
    "\n",
    "def FREQ_Check(Fp, FP_MIN, FP_MAX, RUA): \n",
    "    fmin = Fp>(FP_MIN/RUA)\n",
    "    fmax = Fp<(FP_MAX/RUA)\n",
    "    temp = fmin.astype(int)+fmax.astype(int)\n",
    "    temp[temp<2] = 0\n",
    "    temp[temp==2] = 1\n",
    "    return temp\n",
    "\n",
    "def SBM2_Check(AMP, NR, FP, EPEAK_THRESH, NW_THRES, FP_MIN, FP_MAX, RUA):\n",
    "    A = AMP_Check(AMP, EPEAK_THRESH)\n",
    "    E = EVENTS_Check(NR, NW_THRES)\n",
    "    F = FREQ_Check(FP, FP_MIN, FP_MAX, RUA)\n",
    "    A = A.astype(int)\n",
    "    E = E.astype(int)\n",
    "    F = F.astype(int)\n",
    "    temp = A + E + F\n",
    "    temp[temp<3] = 0\n",
    "    temp[temp==3] = 1\n",
    "    temp = temp.astype(int)\n",
    "    return temp\n",
    "\n",
    "def SBM2_Find(EV, Epoch, DT):\n",
    "    counter = np.zeros(EV.size)\n",
    "    for i in range(EV.size):\n",
    "        t1 = Epoch[i]\n",
    "        t0 = t1 - DT*1e9\n",
    "        EP0 = Epoch[0:i]\n",
    "        counter[i] = np.sum(EV[np.where(EP0>t0)])\n",
    "    return counter\n"
   ]
  },
  {
   "cell_type": "markdown",
   "id": "b59aefe7",
   "metadata": {},
   "source": [
    "The cell below contains a plotting function which runs the algorithm on selected data with the chosen configuration and plots out an overview."
   ]
  },
  {
   "cell_type": "code",
   "execution_count": 4,
   "id": "d183e650",
   "metadata": {
    "scrolled": false
   },
   "outputs": [],
   "source": [
    "def plot(year, month, day, conf):\n",
    "    time, Fp, WA_AMP_MED, WA_NR_EVENTS, RUA, Epoch = load_stat(year, month, day)\n",
    "    EPEAK_THRES, FP_MIN, FP_MAX, NW_THRES, DT_LW, N_LW_THRES = set_conf(conf)\n",
    "    EV = SBM2_Check(WA_AMP_MED, WA_NR_EVENTS, Fp, EPEAK_THRES, NW_THRES, FP_MIN, FP_MAX, RUA)\n",
    "    EIRB = SBM2_Find(EV, Epoch, DT_LW)\n",
    "\n",
    "\n",
    "    fig, axs = plt.subplots(2, 2)\n",
    "    xfmt = md.DateFormatter('%H:%M')\n",
    "\n",
    "    #axs[0,0].xticks( rotation=25 )\n",
    "    for i in range(2):\n",
    "        for j in range(2):\n",
    "            axs[i,j].xaxis.set_major_formatter(xfmt)\n",
    "            for tick in axs[i,j].get_xticklabels():\n",
    "                tick.set_rotation(25)\n",
    "\n",
    "\n",
    "            \n",
    "    # AMP CHECK\n",
    "    axs[0,0].plot(time, WA_AMP_MED)\n",
    "    axs[0,0].plot(time, np.zeros(WA_AMP_MED.size)+EPEAK_THRES)\n",
    "    axs[0,0].title.set_text('AMPLITUDE CHECK')\n",
    "    axs[0,0].legend(['median amplitude','threshold value'])\n",
    "    axs[0,0].set_ylabel('amplitude in telemetry units')\n",
    "\n",
    "    # FREQ CHECK\n",
    "    axs[0,1].plot(time, Fp)\n",
    "    axs[0,1].plot(time, np.zeros(Fp.size)+(FP_MIN / RUA))\n",
    "    axs[0,1].plot(time, np.zeros(Fp.size)+(FP_MAX / RUA))\n",
    "    axs[0,1].title.set_text('FREQUENCY CHECK')\n",
    "    axs[0,1].legend(['frequency in Hz','min threshold value','max threshold value'])\n",
    "    axs[0,1].set_ylabel('frequency (Hz)')\n",
    "\n",
    "    # NR_EVENTS CHECK\n",
    "    axs[1,0].plot(time, WA_NR_EVENTS)\n",
    "    axs[1,0].plot(time, np.zeros(WA_NR_EVENTS.size)+NW_THRES)\n",
    "    axs[1,0].title.set_text('NR_EVENTS CHECK')\n",
    "    axs[1,0].legend(['number of events','threshold value'])\n",
    "    axs[1,0].set_ylabel('number of events')\n",
    "\n",
    "    # Events in rolling buffer\n",
    "    axs[1,1].plot(time, EIRB)\n",
    "    axs[1,1].plot(time, np.zeros(EIRB.size)+N_LW_THRES)\n",
    "    axs[1,1].title.set_text('Events in rolling buffer')\n",
    "    axs[1,1].legend(['number of events','threshold value'])\n",
    "    axs[1,1].set_ylabel('number of events')\n",
    "\n",
    "    fig.patch.set_facecolor('xkcd:white')\n",
    "    fig.suptitle('SBM2 %s %s threshold overview from %d.%d.%4d' % (conf['title'], conf['type'], time[0].day, time[0].month, time[0].year), fontsize=20)\n",
    "    plt.show\n",
    "\n",
    "    plt.savefig('Single day plots/%04d%02d%02d_%s_%s_overview.png' % (time[0].year, time[0].month, time[0].day, conf['title'], conf['type']))"
   ]
  },
  {
   "cell_type": "markdown",
   "id": "7efd6ac1",
   "metadata": {},
   "source": [
    "Following cell includes algorithm configurations. Choose a configuration and enter your configuration into the ```plot()``` function like shown in the example below the configuration cell.\n",
    "- Confirmation default \n",
    "- Degraded default\n",
    "- Outdated confirmation default \n",
    "- Outdated degraded default"
   ]
  },
  {
   "cell_type": "code",
   "execution_count": 5,
   "id": "7e592dd9",
   "metadata": {},
   "outputs": [],
   "source": [
    "# CONFIGURATION CELL #\n",
    "# Confirmation default \n",
    "condef = {'EPEAK_THRES': 200, 'FP_MIN': 5000, 'FP_MAX': 50000, 'NW_THRES': 2, 'DT_LW': 304,  'N_LW_THRES': 5 , 'title': 'confirmation', 'type': 'default'}\n",
    "\n",
    "# Degraded default ('_F' is removed for convenience)\n",
    "degdef = {'EPEAK_THRES': 728, 'FP_MIN': 5000, 'FP_MAX': 50000, 'NW_THRES': 3, 'DT_LW': 1200, 'N_LW_THRES': 20, 'title': 'degraded', 'type': 'default'}\n",
    "\n",
    "# Outdated confirmation default \n",
    "ocondef = {'EPEAK_THRES': 728, 'FP_MIN': 5000, 'FP_MAX': 60000, 'NW_THRES': 3, 'DT_LW': 2400, 'N_LW_THRES': 20, 'title': 'confirmation', 'type': 'outdated-default'}\n",
    "\n",
    "# Outdated degraded default ('_F' is removed for convenience)\n",
    "odegdef = {'EPEAK_THRES': 728, 'FP_MIN': 5000, 'FP_MAX': 60000, 'NW_THRES': 3, 'DT_LW': 1200, 'N_LW_THRES': 20, 'title': 'degraded', 'type': 'outdated-default'}"
   ]
  },
  {
   "cell_type": "code",
   "execution_count": 6,
   "id": "dae5e8e0",
   "metadata": {},
   "outputs": [
    {
     "ename": "NameError",
     "evalue": "name 'cdflib' is not defined",
     "output_type": "error",
     "traceback": [
      "\u001b[1;31m---------------------------------------------------------------------------\u001b[0m",
      "\u001b[1;31mNameError\u001b[0m                                 Traceback (most recent call last)",
      "\u001b[1;32m<ipython-input-6-d5733f501afd>\u001b[0m in \u001b[0;36m<module>\u001b[1;34m\u001b[0m\n\u001b[0;32m      1\u001b[0m \u001b[1;31m# Example\u001b[0m\u001b[1;33m\u001b[0m\u001b[1;33m\u001b[0m\u001b[1;33m\u001b[0m\u001b[0m\n\u001b[1;32m----> 2\u001b[1;33m \u001b[0mplot\u001b[0m\u001b[1;33m(\u001b[0m\u001b[1;36m2021\u001b[0m\u001b[1;33m,\u001b[0m \u001b[1;36m5\u001b[0m\u001b[1;33m,\u001b[0m \u001b[1;36m23\u001b[0m\u001b[1;33m,\u001b[0m \u001b[0mcondef\u001b[0m\u001b[1;33m)\u001b[0m\u001b[1;33m\u001b[0m\u001b[1;33m\u001b[0m\u001b[0m\n\u001b[0m",
      "\u001b[1;32m<ipython-input-4-cf3725236f67>\u001b[0m in \u001b[0;36mplot\u001b[1;34m(year, month, day, conf)\u001b[0m\n\u001b[0;32m      1\u001b[0m \u001b[1;32mdef\u001b[0m \u001b[0mplot\u001b[0m\u001b[1;33m(\u001b[0m\u001b[0myear\u001b[0m\u001b[1;33m,\u001b[0m \u001b[0mmonth\u001b[0m\u001b[1;33m,\u001b[0m \u001b[0mday\u001b[0m\u001b[1;33m,\u001b[0m \u001b[0mconf\u001b[0m\u001b[1;33m)\u001b[0m\u001b[1;33m:\u001b[0m\u001b[1;33m\u001b[0m\u001b[1;33m\u001b[0m\u001b[0m\n\u001b[1;32m----> 2\u001b[1;33m     \u001b[0mtime\u001b[0m\u001b[1;33m,\u001b[0m \u001b[0mFp\u001b[0m\u001b[1;33m,\u001b[0m \u001b[0mWA_AMP_MED\u001b[0m\u001b[1;33m,\u001b[0m \u001b[0mWA_NR_EVENTS\u001b[0m\u001b[1;33m,\u001b[0m \u001b[0mRUA\u001b[0m\u001b[1;33m,\u001b[0m \u001b[0mEpoch\u001b[0m \u001b[1;33m=\u001b[0m \u001b[0mload_stat\u001b[0m\u001b[1;33m(\u001b[0m\u001b[0myear\u001b[0m\u001b[1;33m,\u001b[0m \u001b[0mmonth\u001b[0m\u001b[1;33m,\u001b[0m \u001b[0mday\u001b[0m\u001b[1;33m)\u001b[0m\u001b[1;33m\u001b[0m\u001b[1;33m\u001b[0m\u001b[0m\n\u001b[0m\u001b[0;32m      3\u001b[0m     \u001b[0mEPEAK_THRES\u001b[0m\u001b[1;33m,\u001b[0m \u001b[0mFP_MIN\u001b[0m\u001b[1;33m,\u001b[0m \u001b[0mFP_MAX\u001b[0m\u001b[1;33m,\u001b[0m \u001b[0mNW_THRES\u001b[0m\u001b[1;33m,\u001b[0m \u001b[0mDT_LW\u001b[0m\u001b[1;33m,\u001b[0m \u001b[0mN_LW_THRES\u001b[0m \u001b[1;33m=\u001b[0m \u001b[0mset_conf\u001b[0m\u001b[1;33m(\u001b[0m\u001b[0mconf\u001b[0m\u001b[1;33m)\u001b[0m\u001b[1;33m\u001b[0m\u001b[1;33m\u001b[0m\u001b[0m\n\u001b[0;32m      4\u001b[0m     \u001b[0mEV\u001b[0m \u001b[1;33m=\u001b[0m \u001b[0mSBM2_Check\u001b[0m\u001b[1;33m(\u001b[0m\u001b[0mWA_AMP_MED\u001b[0m\u001b[1;33m,\u001b[0m \u001b[0mWA_NR_EVENTS\u001b[0m\u001b[1;33m,\u001b[0m \u001b[0mFp\u001b[0m\u001b[1;33m,\u001b[0m \u001b[0mEPEAK_THRES\u001b[0m\u001b[1;33m,\u001b[0m \u001b[0mNW_THRES\u001b[0m\u001b[1;33m,\u001b[0m \u001b[0mFP_MIN\u001b[0m\u001b[1;33m,\u001b[0m \u001b[0mFP_MAX\u001b[0m\u001b[1;33m,\u001b[0m \u001b[0mRUA\u001b[0m\u001b[1;33m)\u001b[0m\u001b[1;33m\u001b[0m\u001b[1;33m\u001b[0m\u001b[0m\n\u001b[0;32m      5\u001b[0m     \u001b[0mEIRB\u001b[0m \u001b[1;33m=\u001b[0m \u001b[0mSBM2_Find\u001b[0m\u001b[1;33m(\u001b[0m\u001b[0mEV\u001b[0m\u001b[1;33m,\u001b[0m \u001b[0mEpoch\u001b[0m\u001b[1;33m,\u001b[0m \u001b[0mDT_LW\u001b[0m\u001b[1;33m)\u001b[0m\u001b[1;33m\u001b[0m\u001b[1;33m\u001b[0m\u001b[0m\n",
      "\u001b[1;32m<ipython-input-2-33f8353f09ae>\u001b[0m in \u001b[0;36mload_stat\u001b[1;34m(year, month, day)\u001b[0m\n\u001b[0;32m     10\u001b[0m \u001b[1;32mdef\u001b[0m \u001b[0mload_stat\u001b[0m\u001b[1;33m(\u001b[0m\u001b[0myear\u001b[0m\u001b[1;33m,\u001b[0m \u001b[0mmonth\u001b[0m\u001b[1;33m,\u001b[0m \u001b[0mday\u001b[0m\u001b[1;33m)\u001b[0m\u001b[1;33m:\u001b[0m\u001b[1;33m\u001b[0m\u001b[1;33m\u001b[0m\u001b[0m\n\u001b[0;32m     11\u001b[0m     \u001b[0mdata\u001b[0m \u001b[1;33m=\u001b[0m \u001b[0mcdf\u001b[0m\u001b[1;33m.\u001b[0m\u001b[0mload_rpw\u001b[0m\u001b[1;33m(\u001b[0m\u001b[1;34m'stat'\u001b[0m\u001b[1;33m,\u001b[0m \u001b[0myear\u001b[0m\u001b[1;33m,\u001b[0m \u001b[0mmonth\u001b[0m\u001b[1;33m,\u001b[0m \u001b[0mday\u001b[0m\u001b[1;33m,\u001b[0m \u001b[1;34m'L1'\u001b[0m\u001b[1;33m)\u001b[0m\u001b[1;33m\u001b[0m\u001b[1;33m\u001b[0m\u001b[0m\n\u001b[1;32m---> 12\u001b[1;33m     \u001b[0mtime\u001b[0m \u001b[1;33m=\u001b[0m \u001b[0mcdflib\u001b[0m\u001b[1;33m.\u001b[0m\u001b[0mcdfepoch\u001b[0m\u001b[1;33m.\u001b[0m\u001b[0mbreakdown_tt2000\u001b[0m\u001b[1;33m(\u001b[0m\u001b[0mdata\u001b[0m\u001b[1;33m[\u001b[0m\u001b[1;34m'Epoch'\u001b[0m\u001b[1;33m]\u001b[0m\u001b[1;33m)\u001b[0m\u001b[1;33m\u001b[0m\u001b[1;33m\u001b[0m\u001b[0m\n\u001b[0m\u001b[0;32m     13\u001b[0m     \u001b[1;32mfor\u001b[0m \u001b[0mi\u001b[0m \u001b[1;32min\u001b[0m \u001b[0mrange\u001b[0m\u001b[1;33m(\u001b[0m\u001b[0mlen\u001b[0m\u001b[1;33m(\u001b[0m\u001b[0mtime\u001b[0m\u001b[1;33m)\u001b[0m\u001b[1;33m)\u001b[0m\u001b[1;33m:\u001b[0m\u001b[1;33m\u001b[0m\u001b[1;33m\u001b[0m\u001b[0m\n\u001b[0;32m     14\u001b[0m         \u001b[0mtime\u001b[0m\u001b[1;33m[\u001b[0m\u001b[0mi\u001b[0m\u001b[1;33m]\u001b[0m \u001b[1;33m=\u001b[0m \u001b[0mdt\u001b[0m\u001b[1;33m.\u001b[0m\u001b[0mdatetime\u001b[0m\u001b[1;33m(\u001b[0m\u001b[0mtime\u001b[0m\u001b[1;33m[\u001b[0m\u001b[0mi\u001b[0m\u001b[1;33m]\u001b[0m\u001b[1;33m[\u001b[0m\u001b[1;36m0\u001b[0m\u001b[1;33m]\u001b[0m\u001b[1;33m,\u001b[0m \u001b[0mtime\u001b[0m\u001b[1;33m[\u001b[0m\u001b[0mi\u001b[0m\u001b[1;33m]\u001b[0m\u001b[1;33m[\u001b[0m\u001b[1;36m1\u001b[0m\u001b[1;33m]\u001b[0m\u001b[1;33m,\u001b[0m \u001b[0mtime\u001b[0m\u001b[1;33m[\u001b[0m\u001b[0mi\u001b[0m\u001b[1;33m]\u001b[0m\u001b[1;33m[\u001b[0m\u001b[1;36m2\u001b[0m\u001b[1;33m]\u001b[0m\u001b[1;33m,\u001b[0m \u001b[0mtime\u001b[0m\u001b[1;33m[\u001b[0m\u001b[0mi\u001b[0m\u001b[1;33m]\u001b[0m\u001b[1;33m[\u001b[0m\u001b[1;36m3\u001b[0m\u001b[1;33m]\u001b[0m\u001b[1;33m,\u001b[0m \u001b[0mtime\u001b[0m\u001b[1;33m[\u001b[0m\u001b[0mi\u001b[0m\u001b[1;33m]\u001b[0m\u001b[1;33m[\u001b[0m\u001b[1;36m4\u001b[0m\u001b[1;33m]\u001b[0m\u001b[1;33m,\u001b[0m \u001b[0mtime\u001b[0m\u001b[1;33m[\u001b[0m\u001b[0mi\u001b[0m\u001b[1;33m]\u001b[0m\u001b[1;33m[\u001b[0m\u001b[1;36m5\u001b[0m\u001b[1;33m]\u001b[0m\u001b[1;33m,\u001b[0m \u001b[0mtime\u001b[0m\u001b[1;33m[\u001b[0m\u001b[0mi\u001b[0m\u001b[1;33m]\u001b[0m\u001b[1;33m[\u001b[0m\u001b[1;36m6\u001b[0m\u001b[1;33m]\u001b[0m\u001b[1;33m)\u001b[0m\u001b[1;33m\u001b[0m\u001b[1;33m\u001b[0m\u001b[0m\n",
      "\u001b[1;31mNameError\u001b[0m: name 'cdflib' is not defined"
     ]
    }
   ],
   "source": [
    "# Example\n",
    "plot(2021, 5, 23, condef)"
   ]
  },
  {
   "cell_type": "code",
   "execution_count": null,
   "id": "4816f934",
   "metadata": {},
   "outputs": [],
   "source": []
  }
 ],
 "metadata": {
  "kernelspec": {
   "display_name": "Python 3",
   "language": "python",
   "name": "python3"
  },
  "language_info": {
   "codemirror_mode": {
    "name": "ipython",
    "version": 3
   },
   "file_extension": ".py",
   "mimetype": "text/x-python",
   "name": "python",
   "nbconvert_exporter": "python",
   "pygments_lexer": "ipython3",
   "version": "3.9.1"
  }
 },
 "nbformat": 4,
 "nbformat_minor": 5
}
