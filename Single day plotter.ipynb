{
 "cells": [
  {
   "cell_type": "code",
   "execution_count": 1,
   "id": "3e077a28",
   "metadata": {},
   "outputs": [],
   "source": [
    "import load_cdf as cdf\n",
    "import numpy as np\n",
    "import math\n",
    "from calendar import monthrange\n",
    "from collections import namedtuple\n",
    "import pickle\n",
    "import scipy.io \n",
    "import scipy.signal\n",
    "\n",
    "import cdflib \n",
    "import matplotlib.dates as md\n",
    "import matplotlib\n",
    "from matplotlib import pyplot as plt\n",
    "import datetime as dt\n",
    "matplotlib.rcParams['figure.figsize'] = [12, 8]"
   ]
  },
  {
   "cell_type": "code",
   "execution_count": 45,
   "id": "230f73d2",
   "metadata": {},
   "outputs": [],
   "source": [
    "data = cdf.load_rpw('stat', 2021,5,23,'L1')\n",
    "time = cdflib.cdfepoch.breakdown_tt2000(data['Epoch'])\n",
    "for i in range(len(time)):\n",
    "    time[i] = dt.datetime(time[i][0], time[i][1],time[i][2],time[i][3],time[i][4],time[i][5],time[i][6])\n",
    "\n",
    "Fp = 1024 * 2 ** (data['WA_MED_FREQ'] / 32)\n",
    "EPEAK_THRES_F = 300\n",
    "FP_MIN = 5000   #Hz\n",
    "FP_MAX = 60000  #Hz\n",
    "RUA = 0.7       #AU gotta check this\n",
    "NW_THRES_F = 3\n",
    "WA_AMP_MED = data['WA_AMP_MED']\n",
    "WA_NR_EVENTS = data['WA_NR_EVENTS']"
   ]
  },
  {
   "cell_type": "code",
   "execution_count": null,
   "id": "80c92b8f",
   "metadata": {},
   "outputs": [],
   "source": []
  }
 ],
 "metadata": {
  "kernelspec": {
   "display_name": "Python [conda env:tensorflow] *",
   "language": "python",
   "name": "conda-env-tensorflow-py"
  },
  "language_info": {
   "codemirror_mode": {
    "name": "ipython",
    "version": 3
   },
   "file_extension": ".py",
   "mimetype": "text/x-python",
   "name": "python",
   "nbconvert_exporter": "python",
   "pygments_lexer": "ipython3",
   "version": "3.7.10"
  }
 },
 "nbformat": 4,
 "nbformat_minor": 5
}
