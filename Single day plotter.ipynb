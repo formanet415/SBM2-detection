{
 "cells": [
  {
   "cell_type": "markdown",
   "id": "1a298b74",
   "metadata": {},
   "source": [
    "# Single day plotter for SBM2 detection threshold optimization\n",
    "\n",
    "The criteria for the SBM2 detection/confirmation algorithm are *amplitude*, *frequency* and *number of events*. The optimal threshold values are to be determined by plotting out the variables during several type III. events. This code also shows how the algorithm would perform when confirming the type III. events which were encountered so far.\n",
    "\n",
    "Run the cells below and follow instructions in the markdown cells."
   ]
  },
  {
   "cell_type": "code",
   "execution_count": 1,
   "id": "3e077a28",
   "metadata": {},
   "outputs": [],
   "source": [
    "# Import cell\n",
    "import load_cdf as cdf\n",
    "import numpy as np\n",
    "import math\n",
    "import pickle\n",
    "import scipy.io \n",
    "\n",
    "import os \n",
    "import cdflib\n",
    "import matplotlib.dates as md\n",
    "import matplotlib\n",
    "from matplotlib import pyplot as plt\n",
    "import datetime as dt\n",
    "matplotlib.rcParams['figure.figsize'] = [20, 10]"
   ]
  },
  {
   "cell_type": "markdown",
   "id": "76c5e311",
   "metadata": {},
   "source": [
    "The cell below contains a loader function and a function which sets the configuration for the detection algorithm."
   ]
  },
  {
   "cell_type": "code",
   "execution_count": 2,
   "id": "230f73d2",
   "metadata": {},
   "outputs": [],
   "source": [
    "# Loading data and setting threshold values\n",
    "def get_rua(epoch0):\n",
    "    with open('SBM2_timepos_data_V6.pickle', 'rb') as f:\n",
    "        time, rua, Epoch, et = pickle.load(f)\n",
    "    return rua[find_nearest(et,epoch0)]\n",
    "\n",
    "def find_nearest(array, value):\n",
    "    array = np.asarray(array)\n",
    "    idx = (np.abs(array - value)).argmin()\n",
    "    return idx\n",
    "\n",
    "def load_stat(year, month, day):\n",
    "    global date \n",
    "    date = [year, month]\n",
    "    global data\n",
    "    data = cdf.load_rpw('stat', year, month, day, 'L1')\n",
    "    time = cdflib.cdfepoch.breakdown_tt2000(data['Epoch'])\n",
    "    for i in range(len(time)):\n",
    "        time[i] = dt.datetime(time[i][0], time[i][1], time[i][2], time[i][3], time[i][4], time[i][5], time[i][6])\n",
    "\n",
    "    Fp = 1024 * 2 ** (data['WA_MED_FREQ'] / 32)\n",
    "    WA_AMP_MED = data['WA_AMP_MED']\n",
    "    WA_NR_EVENTS = data['WA_NR_EVENTS']\n",
    "    RUA = get_rua(data['Epoch'][0])\n",
    "    return time, Fp, WA_AMP_MED, WA_NR_EVENTS, RUA, data['Epoch'], last_loaded\n",
    "\n",
    "\n",
    "def set_conf(conf):\n",
    "    EPEAK_THRES = conf['EPEAK_THRES']\n",
    "    FP_MIN = conf['FP_MIN'] \n",
    "    FP_MAX = conf['FP_MAX'] \n",
    "    NW_THRES = conf['NW_THRES']\n",
    "    DT_LW = conf['DT_LW']\n",
    "    N_LW_THRES = conf['N_LW_THRES']\n",
    "    return EPEAK_THRES, FP_MIN, FP_MAX, NW_THRES, DT_LW, N_LW_THRES"
   ]
  },
  {
   "cell_type": "markdown",
   "id": "92aa380a",
   "metadata": {},
   "source": [
    "The cell below contains the algorithm function which checks wheter the algorithm detects SBM2."
   ]
  },
  {
   "cell_type": "code",
   "execution_count": 3,
   "id": "3ed013b4",
   "metadata": {},
   "outputs": [],
   "source": [
    "# Getting number of events in rolling buffer (DT_LW)\n",
    "def AMP_Check(AMP, EPEAK_THRESH): \n",
    "    return AMP>EPEAK_THRESH\n",
    "\n",
    "def EVENTS_Check(NR, NW_THRES): \n",
    "    return NR>NW_THRES\n",
    "\n",
    "def FREQ_Check(Fp, FP_MIN, FP_MAX, RUA): \n",
    "    fmin = Fp>(FP_MIN/RUA)\n",
    "    fmax = Fp<(FP_MAX/RUA)\n",
    "    temp = fmin.astype(int)+fmax.astype(int)\n",
    "    temp[temp<2] = 0\n",
    "    temp[temp==2] = 1\n",
    "    return temp\n",
    "\n",
    "def SBM2_Check(AMP, NR, FP, EPEAK_THRESH, NW_THRES, FP_MIN, FP_MAX, RUA):\n",
    "    A = AMP_Check(AMP, EPEAK_THRESH)\n",
    "    E = EVENTS_Check(NR, NW_THRES)\n",
    "    F = FREQ_Check(FP, FP_MIN, FP_MAX, RUA)\n",
    "    A = A.astype(int)\n",
    "    E = E.astype(int)\n",
    "    F = F.astype(int)\n",
    "    temp = A + E + F\n",
    "    condmet = A + E + F\n",
    "    temp[temp<3] = 0\n",
    "    temp[temp==3] = 1\n",
    "    temp = temp.astype(int)\n",
    "    return temp, condmet\n",
    "\n",
    "def SBM2_Find(EV, Epoch, DT):\n",
    "    counter = np.zeros(EV.size)\n",
    "    for i in range(EV.size):\n",
    "        t1 = Epoch[i]\n",
    "        t0 = t1 - DT*1e9\n",
    "        EP0 = Epoch[0:i]\n",
    "        counter[i] = np.sum(EV[np.where(EP0>t0)])\n",
    "    return counter\n",
    "\n",
    "def get_triggers(EIRB, TH, Ep,time, delay):\n",
    "    Ep =Ep*1e-9\n",
    "    x = Ep[np.where(EIRB>TH)]\n",
    "    tEp = np.array([])\n",
    "    for i in x:\n",
    "        if i==x[0]:\n",
    "            t0 = i\n",
    "            tEp = np.append(tEp, t0)\n",
    "        else:\n",
    "            if i-delay>t0:\n",
    "                t0 = i\n",
    "                tEp = np.append(tEp, t0)\n",
    "    indxs = np.array([])\n",
    "    for i in tEp:\n",
    "        ind = np.where(Ep == i)\n",
    "        indxs = np.append(indxs, ind)\n",
    "    return indxs\n"
   ]
  },
  {
   "cell_type": "markdown",
   "id": "b59aefe7",
   "metadata": {},
   "source": [
    "The cell below contains a plotting function which runs the algorithm on selected data with the chosen configuration and plots out an overview."
   ]
  },
  {
   "cell_type": "code",
   "execution_count": 8,
   "id": "d183e650",
   "metadata": {
    "scrolled": false
   },
   "outputs": [],
   "source": [
    "def plot(year, month, day, conf):\n",
    "    time, Fp, WA_AMP_MED, WA_NR_EVENTS, RUA, Epoch = load_stat(year, month, day)\n",
    "    EPEAK_THRES, FP_MIN, FP_MAX, NW_THRES, DT_LW, N_LW_THRES = set_conf(conf)\n",
    "    EV, condmet = SBM2_Check(WA_AMP_MED, WA_NR_EVENTS, Fp, EPEAK_THRES, NW_THRES, FP_MIN, FP_MAX, RUA)\n",
    "    EIRB = SBM2_Find(EV, Epoch, DT_LW)\n",
    "    triggerinx = get_triggers(EIRB, N_LW_THRES, Epoch,time, delay = 7200)\n",
    "\n",
    "    fig, axs = plt.subplots(2, 2)\n",
    "    xfmt = md.DateFormatter('%H:%M')\n",
    "\n",
    "    #axs[0,0].xticks( rotation=25 )\n",
    "    for i in range(2):\n",
    "        for j in range(2):\n",
    "            axs[i,j].xaxis.set_major_formatter(xfmt)\n",
    "            for tick in axs[i,j].get_xticklabels():\n",
    "                tick.set_rotation(25)\n",
    "\n",
    "\n",
    "            \n",
    "    # AMP CHECK\n",
    "    axs[0,0].scatter(time, WA_AMP_MED, label='median amplitude')\n",
    "    axs[0,0].plot(time, np.zeros(WA_AMP_MED.size)+EPEAK_THRES, 'orange', label='threshold value')\n",
    "    axs[0,0].title.set_text('AMPLITUDE CHECK')\n",
    "    axs[0,0].legend()\n",
    "    axs[0,0].set_ylabel('amplitude in telemetry units')\n",
    "\n",
    "    # FREQ CHECK\n",
    "    axs[0,1].scatter(time, Fp, label='frequency in Hz')\n",
    "    axs[0,1].plot(time, np.zeros(Fp.size)+(FP_MIN / RUA), 'orange', label='min threshold value')\n",
    "    axs[0,1].plot(time, np.zeros(Fp.size)+(FP_MAX / RUA), 'green', label='max threshold value')\n",
    "    axs[0,1].title.set_text('FREQUENCY CHECK')\n",
    "    axs[0,1].legend()\n",
    "    axs[0,1].set_ylabel('frequency (Hz)')\n",
    "\n",
    "    # NR_EVENTS CHECK\n",
    "    axs[1,0].scatter(time, WA_NR_EVENTS)\n",
    "    axs[1,0].plot(time, np.zeros(WA_NR_EVENTS.size)+NW_THRES, 'orange')\n",
    "    axs[1,0].title.set_text('NR_EVENTS CHECK')\n",
    "    axs[1,0].legend(['number of events','threshold value'])\n",
    "    axs[1,0].set_ylabel('number of events')\n",
    "\n",
    "    # Events in rolling buffer\n",
    "    ax2 = axs[1,1].twinx()\n",
    "    ax2.scatter(time, condmet, c='#a3a3a3', label='conditions met')\n",
    "    ax2.plot(time, np.zeros(condmet.size)+3, 'red', label='all conditions')\n",
    "    ax2.set_ylabel('number of conditions met')\n",
    "    ax2.set_ylim([0, 3.5])\n",
    "    ax2.legend(loc=1)\n",
    "    \n",
    "    axs[1,1].scatter(time, EIRB, label='events in rolling buffer')\n",
    "    axs[1,1].plot(time, np.zeros(EIRB.size)+N_LW_THRES, 'orange', label='threshold value')\n",
    "    axs[1,1].title.set_text('Events in rolling buffer and conditions met')\n",
    "    axs[1,1].set_ylabel('number of events')\n",
    "    axs[1,1].legend(loc=2)\n",
    "    for a in range(2):\n",
    "        for b in range(2):\n",
    "            for i in triggerinx:\n",
    "                axs[a,b].axvline(time[i.astype(int)], 0, color='black')\n",
    "\n",
    "    fig.patch.set_facecolor('xkcd:white')\n",
    "    fig.suptitle('SBM2 %s %s threshold overview from %d.%d.%4d' % (conf['title'], conf['type'], time[0].day, time[0].month, time[0].year), fontsize=20)\n",
    "    plt.show\n",
    "    \n",
    "    dirName = 'Single day plots/%04d%02d%02d/' % (time[0].year, time[0].month, time[0].day)\n",
    "    try:\n",
    "        # Create target Directory\n",
    "        os.mkdir(dirName)\n",
    "        print(\"Directory \" , dirName ,  \" Created \") \n",
    "    except FileExistsError:\n",
    "        print(\"Directory \" , dirName ,  \" already exists\")\n",
    "    plt.savefig(dirName + '%04d%02d%02d_%s_%s_overview.png' % (time[0].year, time[0].month, time[0].day, conf['title'], conf['type']))"
   ]
  },
  {
   "cell_type": "code",
   "execution_count": 10,
   "id": "b967efa2",
   "metadata": {},
   "outputs": [],
   "source": [
    "def plotalldef(year, month, day):\n",
    "    plot(year, month, day, condef)\n",
    "    plot(year, month, day, degdef)\n",
    "\n",
    "def plotalldefHK(year, month, day):\n",
    "    plot(year, month, day, condefHK)\n",
    "    plot(year, month, day, degdefHK)"
   ]
  },
  {
   "cell_type": "markdown",
   "id": "7efd6ac1",
   "metadata": {},
   "source": [
    "Following cell includes algorithm configurations. Choose a configuration and enter your configuration into the ```plot()``` function like shown in the example below the configuration cell.\n",
    "- Confirmation default \n",
    "- Degraded default\n",
    "- Outdated confirmation default \n",
    "- Outdated degraded default\n",
    "\n",
    "Alternatively, use ```plotalldef()``` to plot both degraded and confirmation default configurations."
   ]
  },
  {
   "cell_type": "code",
   "execution_count": 11,
   "id": "7e592dd9",
   "metadata": {},
   "outputs": [],
   "source": [
    "# CONFIGURATION CELL #\n",
    "# Confirmation default \n",
    "condef = {'EPEAK_THRES': 200, 'FP_MIN': 5000, 'FP_MAX': 50000, 'NW_THRES': 2, 'DT_LW': 304,  'N_LW_THRES': 5 , 'title': '_confirmation', 'type': 'default'}\n",
    "\n",
    "# Degraded default ('_F' is removed for convenience)\n",
    "degdef = {'EPEAK_THRES': 728, 'FP_MIN': 5000, 'FP_MAX': 50000, 'NW_THRES': 3, 'DT_LW': 1200, 'N_LW_THRES': 20, 'title': '_degraded', 'type': 'default'}\n",
    "\n",
    "# Outdated confirmation default \n",
    "ocondef = {'EPEAK_THRES': 728, 'FP_MIN': 5000, 'FP_MAX': 60000, 'NW_THRES': 3, 'DT_LW': 2400, 'N_LW_THRES': 20, 'title': 'confirmation', 'type': 'outdated-default'}\n",
    "\n",
    "# Outdated degraded default ('_F' is removed for convenience)\n",
    "odegdef = {'EPEAK_THRES': 728, 'FP_MIN': 5000, 'FP_MAX': 60000, 'NW_THRES': 3, 'DT_LW': 1200, 'N_LW_THRES': 20, 'title': 'degraded', 'type': 'outdated-default'}\n",
    "\n",
    "# Confirmation default \n",
    "condefHK = {'EPEAK_THRES': 200, 'FP_MIN': 5000, 'FP_MAX': 50000, 'NW_THRES': 2, 'DT_LW': 304,  'N_LW_THRES': 5 , 'title': '_confirmation', 'type': 'default_FROM HK LOG'}\n",
    "\n",
    "# Degraded default ('_F' is removed for convenience)\n",
    "degdefHK = {'EPEAK_THRES': 728, 'FP_MIN': 5000, 'FP_MAX': 50000, 'NW_THRES': 3, 'DT_LW': 1200, 'N_LW_THRES': 20, 'title': '_degraded', 'type': 'default_FROM HK LOG'}\n",
    "\n",
    "# Custom config 1\n",
    "custom1 = {'EPEAK_THRES': 200, 'FP_MIN': 5000, 'FP_MAX': 50000, 'NW_THRES': 1, 'DT_LW': 1200,  'N_LW_THRES': 5 , 'title': 'custom1', 'type': 'dev'}\n",
    "\n",
    "# Custom config 2\n",
    "custom2 = {'EPEAK_THRES': 150, 'FP_MIN': 5000, 'FP_MAX': 50000, 'NW_THRES': 1, 'DT_LW': 1200,  'N_LW_THRES': 5 , 'title': 'custom2', 'type': 'dev'}"
   ]
  },
  {
   "cell_type": "code",
   "execution_count": 13,
   "id": "dae5e8e0",
   "metadata": {
    "scrolled": false
   },
   "outputs": [
    {
     "ename": "UnboundLocalError",
     "evalue": "local variable 'last_loaded' referenced before assignment",
     "output_type": "error",
     "traceback": [
      "\u001b[1;31m---------------------------------------------------------------------------\u001b[0m",
      "\u001b[1;31mUnboundLocalError\u001b[0m                         Traceback (most recent call last)",
      "\u001b[1;32m<ipython-input-13-cd5ae567efe4>\u001b[0m in \u001b[0;36m<module>\u001b[1;34m\u001b[0m\n\u001b[0;32m      1\u001b[0m \u001b[1;31m# Example\u001b[0m\u001b[1;33m\u001b[0m\u001b[1;33m\u001b[0m\u001b[1;33m\u001b[0m\u001b[0m\n\u001b[0;32m      2\u001b[0m \u001b[0mlast_loaded\u001b[0m\u001b[1;33m=\u001b[0m \u001b[1;33m[\u001b[0m\u001b[1;36m2020\u001b[0m\u001b[1;33m,\u001b[0m\u001b[1;36m1\u001b[0m\u001b[1;33m,\u001b[0m\u001b[1;36m1\u001b[0m\u001b[1;33m]\u001b[0m\u001b[1;33m\u001b[0m\u001b[1;33m\u001b[0m\u001b[0m\n\u001b[1;32m----> 3\u001b[1;33m \u001b[0mplot\u001b[0m\u001b[1;33m(\u001b[0m\u001b[1;36m2021\u001b[0m\u001b[1;33m,\u001b[0m \u001b[1;36m5\u001b[0m\u001b[1;33m,\u001b[0m \u001b[1;36m23\u001b[0m\u001b[1;33m,\u001b[0m \u001b[0mcondef\u001b[0m\u001b[1;33m)\u001b[0m\u001b[1;33m\u001b[0m\u001b[1;33m\u001b[0m\u001b[0m\n\u001b[0m",
      "\u001b[1;32m<ipython-input-8-497ac150d4e3>\u001b[0m in \u001b[0;36mplot\u001b[1;34m(year, month, day, conf)\u001b[0m\n\u001b[0;32m      2\u001b[0m \u001b[0mlast_loaded\u001b[0m \u001b[1;33m=\u001b[0m \u001b[1;33m[\u001b[0m\u001b[1;36m2020\u001b[0m\u001b[1;33m,\u001b[0m\u001b[1;36m1\u001b[0m\u001b[1;33m,\u001b[0m\u001b[1;36m1\u001b[0m\u001b[1;33m]\u001b[0m\u001b[1;33m\u001b[0m\u001b[1;33m\u001b[0m\u001b[0m\n\u001b[0;32m      3\u001b[0m \u001b[1;32mdef\u001b[0m \u001b[0mplot\u001b[0m\u001b[1;33m(\u001b[0m\u001b[0myear\u001b[0m\u001b[1;33m,\u001b[0m \u001b[0mmonth\u001b[0m\u001b[1;33m,\u001b[0m \u001b[0mday\u001b[0m\u001b[1;33m,\u001b[0m \u001b[0mconf\u001b[0m\u001b[1;33m)\u001b[0m\u001b[1;33m:\u001b[0m\u001b[1;33m\u001b[0m\u001b[1;33m\u001b[0m\u001b[0m\n\u001b[1;32m----> 4\u001b[1;33m     \u001b[0mtime\u001b[0m\u001b[1;33m,\u001b[0m \u001b[0mFp\u001b[0m\u001b[1;33m,\u001b[0m \u001b[0mWA_AMP_MED\u001b[0m\u001b[1;33m,\u001b[0m \u001b[0mWA_NR_EVENTS\u001b[0m\u001b[1;33m,\u001b[0m \u001b[0mRUA\u001b[0m\u001b[1;33m,\u001b[0m \u001b[0mEpoch\u001b[0m\u001b[1;33m,\u001b[0m \u001b[0mlast\u001b[0m \u001b[1;33m=\u001b[0m \u001b[0mload_stat\u001b[0m\u001b[1;33m(\u001b[0m\u001b[0myear\u001b[0m\u001b[1;33m,\u001b[0m \u001b[0mmonth\u001b[0m\u001b[1;33m,\u001b[0m \u001b[0mday\u001b[0m\u001b[1;33m,\u001b[0m  \u001b[0mlast_loaded\u001b[0m\u001b[1;33m)\u001b[0m\u001b[1;33m\u001b[0m\u001b[1;33m\u001b[0m\u001b[0m\n\u001b[0m\u001b[0;32m      5\u001b[0m \u001b[1;33m\u001b[0m\u001b[0m\n\u001b[0;32m      6\u001b[0m     \u001b[0mlast_loaded\u001b[0m \u001b[1;33m=\u001b[0m \u001b[0mlast\u001b[0m\u001b[1;33m\u001b[0m\u001b[1;33m\u001b[0m\u001b[0m\n",
      "\u001b[1;31mUnboundLocalError\u001b[0m: local variable 'last_loaded' referenced before assignment"
     ]
    }
   ],
   "source": [
    "# Example\n",
    "plot(2021, 5, 23, condef)"
   ]
  },
  {
   "cell_type": "code",
   "execution_count": null,
   "id": "ea7fccf0",
   "metadata": {
    "scrolled": false
   },
   "outputs": [],
   "source": [
    "plot(2021, 5, 9, degdef)"
   ]
  },
  {
   "cell_type": "code",
   "execution_count": null,
   "id": "4816f934",
   "metadata": {},
   "outputs": [],
   "source": [
    "# Defaults\n",
    "plot(2021,  5, 23, condef)\n",
    "plot(2021,  5, 23, degdef)\n",
    "plot(2021,  5, 22, condef)\n",
    "plot(2021,  5, 22, degdef)\n",
    "plot(2020, 12,  9, condef)\n",
    "plot(2020, 12,  9, degdef)\n",
    "plot(2020, 12, 10, condef)\n",
    "plot(2020, 12, 10, degdef)\n",
    "plot(2020, 12, 11, condef)\n",
    "plot(2020, 12, 11, degdef)\n",
    "plot(2020, 12, 12, condef)\n",
    "plot(2020, 12, 12, degdef)\n",
    "plot(2020, 12, 13, condef)\n",
    "plot(2020, 12, 13, degdef)\n",
    "plot(2021,  5,  9, condef)\n",
    "plot(2021,  5,  9, degdef)\n",
    "plot(2020, 11, 17, condef)\n",
    "plot(2020, 11, 17, degdef)\n",
    "plot(2021,  5, 29, condef)\n",
    "plot(2021,  5, 29, degdef)\n"
   ]
  },
  {
   "cell_type": "code",
   "execution_count": null,
   "id": "00350ccb",
   "metadata": {
    "scrolled": true
   },
   "outputs": [],
   "source": [
    "# Custom 1 \n",
    "plot(2021,  5, 23, custom1)\n",
    "plot(2021,  5, 22, custom1)\n",
    "plot(2020, 12,  9, custom1)\n",
    "plot(2020, 12, 10, custom1)\n",
    "plot(2020, 12, 11, custom1)\n",
    "plot(2020, 12, 12, custom1)\n",
    "plot(2020, 12, 13, custom1)\n",
    "plot(2021,  5,  9, custom1)\n",
    "plot(2020, 11, 17, custom1)\n",
    "plot(2021,  5, 29, custom1)"
   ]
  },
  {
   "cell_type": "code",
   "execution_count": null,
   "id": "ec5fc091",
   "metadata": {},
   "outputs": [],
   "source": [
    "# Custom 2\n",
    "plot(2021,  5, 23, custom2)\n",
    "plot(2021,  5, 22, custom2)\n",
    "plot(2020, 12,  9, custom2)\n",
    "plot(2020, 12, 10, custom2)\n",
    "plot(2020, 12, 11, custom2)\n",
    "plot(2020, 12, 12, custom2)\n",
    "plot(2020, 12, 13, custom2)\n",
    "plot(2021,  5,  9, custom2)\n",
    "plot(2020, 11, 17, custom2)\n",
    "plot(2021,  5, 29, custom2)"
   ]
  },
  {
   "cell_type": "code",
   "execution_count": null,
   "id": "d2e97e72",
   "metadata": {
    "scrolled": true
   },
   "outputs": [],
   "source": [
    "# SUS\n",
    "plot(2021, 3, 11, condef)\n",
    "plot(2021, 3, 11, degdef)\n",
    "plot(2021, 3, 11, custom1)\n",
    "plot(2021, 3, 11, custom2)"
   ]
  },
  {
   "cell_type": "code",
   "execution_count": null,
   "id": "497f62ce",
   "metadata": {
    "scrolled": false
   },
   "outputs": [],
   "source": [
    "# HK_LOG_TRIGGERS\n",
    "plotalldefHK(2020,2,25)\n",
    "plotalldefHK(2020,2,26)\n",
    "plotalldefHK(2020,2,27)\n",
    "plotalldefHK(2020,2,28)\n",
    "plotalldefHK(2020,4,29)\n",
    "plotalldefHK(2020,4,30)\n",
    "plotalldefHK(2020,5,1)\n",
    "plotalldefHK(2020,5,2)\n",
    "plotalldefHK(2020,5,3)\n",
    "plotalldefHK(2020,6,6)\n",
    "plotalldefHK(2020,7,11)\n",
    "plotalldefHK(2020,12,13)\n",
    "plotalldefHK(2020,12,18)\n",
    "plotalldefHK(2020,12,23)\n",
    "plotalldefHK(2021,1,1)\n",
    "plotalldefHK(2021,1,7)\n",
    "plotalldefHK(2021,1,11)\n",
    "plotalldefHK(2021,1,25)\n",
    "plotalldefHK(2021,1,29)\n",
    "plotalldefHK(2021,2,2)\n",
    "plotalldefHK(2021,2,5)\n",
    "plotalldefHK(2021,2,8)\n",
    "plotalldefHK(2021,2,13)\n",
    "plotalldefHK(2021,2,22)\n",
    "plotalldefHK(2021,3,1)\n",
    "plotalldefHK(2021,3,5)\n",
    "plotalldefHK(2021,3,8)\n",
    "plotalldefHK(2021,3,11)"
   ]
  },
  {
   "cell_type": "code",
   "execution_count": null,
   "id": "1e5d42e8",
   "metadata": {},
   "outputs": [],
   "source": []
  }
 ],
 "metadata": {
  "kernelspec": {
   "display_name": "Python 3",
   "language": "python",
   "name": "python3"
  },
  "language_info": {
   "codemirror_mode": {
    "name": "ipython",
    "version": 3
   },
   "file_extension": ".py",
   "mimetype": "text/x-python",
   "name": "python",
   "nbconvert_exporter": "python",
   "pygments_lexer": "ipython3",
   "version": "3.9.5"
  }
 },
 "nbformat": 4,
 "nbformat_minor": 5
}
